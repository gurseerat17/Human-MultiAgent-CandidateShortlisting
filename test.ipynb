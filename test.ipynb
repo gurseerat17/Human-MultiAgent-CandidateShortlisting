{
 "cells": [
  {
   "cell_type": "code",
   "execution_count": 32,
   "metadata": {},
   "outputs": [],
   "source": [
    "import resume_rating_main as rrm\n",
    " \n",
    "\n"
   ]
  },
  {
   "cell_type": "code",
   "execution_count": 45,
   "metadata": {},
   "outputs": [],
   "source": [
    "import gdown\n",
    "from google_drive_downloader import GoogleDriveDownloader as gdd\n",
    "import aspose.words as aw\n",
    "global i\n",
    "i=0\n",
    "req_document=rrm.cnst.UPLOAD_FOLDER+\"\\\\\"+\"sde.docx\"\n",
    "def resume_select(row):\n",
    "    global i\n",
    "    print(i)\n",
    "    abs_paths=\" \"\n",
    "    # name=row[3]\n",
    "    # print(name)\n",
    "    age=row[3]\n",
    "    gender= 1 if row[2]=='Male' else 0\n",
    "    openness=row[4]\n",
    "    neuroticism=row[5]\n",
    "    conscientiousness=row[6]\n",
    "    agreeableness=row[7]\n",
    "    extraversion=row[8]\n",
    "    \n",
    "    url=row[9]\n",
    "    file_id=url.partition(\"?id=\")[2]\n",
    "    \n",
    "    # print(file_id)\n",
    "    gdd.download_file_from_google_drive(file_id=file_id,dest_path=rrm.cnst.UPLOAD_FOLDER+\"\\\\\"+str(i)+\".pdf\")\n",
    "    doc=aw.Document(rrm.cnst.UPLOAD_FOLDER+\"\\\\\"+str(i)+\".pdf\")\n",
    "    output=rrm.cnst.UPLOAD_FOLDER+'\\\\'+str(i)+\".docx\"\n",
    "\n",
    "    doc.save(output)\n",
    "    i=i+1\n",
    "    # gdown.download(url, output, quiet=False, fuzzy=True)\n",
    "\n",
    "    result_jobfit = rrm.resume_matcher.process_files(req_document,[output])\n",
    "    print(result_jobfit)\n",
    "    result_trait,result_personalityconf= rrm.main.prediction_result(req_document,[output],(gender,age,openness,neuroticism,conscientiousness,agreeableness,extraversion))"
   ]
  },
  {
   "cell_type": "code",
   "execution_count": 46,
   "metadata": {},
   "outputs": [
    {
     "name": "stdout",
     "output_type": "stream",
     "text": [
      "0\n",
      "\n",
      "\n",
      "---------------------- C:\\Users\\nikid\\btp\\docs\\sde.docx ---------------------\n",
      "\n",
      "\n",
      "txt C:\\Users\\nikid\\btp\\docs\\sde.docx\n",
      "txt C:\\Users\\nikid\\btp\\docs\\0.docx\n"
     ]
    },
    {
     "name": "stderr",
     "output_type": "stream",
     "text": [
      "c:\\Users\\nikid\\btp\\btpenv\\lib\\site-packages\\sklearn\\utils\\validation.py:593: FutureWarning: np.matrix usage is deprecated in 1.0 and will raise a TypeError in 1.2. Please convert to a numpy array with np.asarray. For more information see: https://numpy.org/doc/stable/reference/generated/numpy.matrix.html\n",
      "  warnings.warn(\n",
      "c:\\Users\\nikid\\btp\\btpenv\\lib\\site-packages\\sklearn\\utils\\validation.py:593: FutureWarning: np.matrix usage is deprecated in 1.0 and will raise a TypeError in 1.2. Please convert to a numpy array with np.asarray. For more information see: https://numpy.org/doc/stable/reference/generated/numpy.matrix.html\n",
      "  warnings.warn(\n"
     ]
    },
    {
     "name": "stdout",
     "output_type": "stream",
     "text": [
      "[['0.docx', 0.48460709975089794]]\n",
      "\n",
      "############# Candidate Entered Data #############\n",
      "\n",
      "{'Candidate Name': 'C:\\\\Users\\\\nikid\\\\btp\\\\docs\\\\sde.docx', 'CV Location': ['C:\\\\Users\\\\nikid\\\\btp\\\\docs\\\\0.docx']} (1, '21', '8', '8', '3', '8', '4')\n",
      "0.21447054652149847\n",
      "\n",
      "############# Predicted Personality #############\n",
      "\n",
      "1\n",
      "\n",
      "\n",
      "---------------------- C:\\Users\\nikid\\btp\\docs\\sde.docx ---------------------\n",
      "\n",
      "\n",
      "txt C:\\Users\\nikid\\btp\\docs\\sde.docx\n",
      "txt C:\\Users\\nikid\\btp\\docs\\1.docx\n",
      "[['1.docx', 0.0]]\n",
      "\n",
      "############# Candidate Entered Data #############\n",
      "\n",
      "{'Candidate Name': 'C:\\\\Users\\\\nikid\\\\btp\\\\docs\\\\sde.docx', 'CV Location': ['C:\\\\Users\\\\nikid\\\\btp\\\\docs\\\\1.docx']} (1, '19', '8', '8', '4', '10', '10')\n",
      "0.2915043626576122\n",
      "\n",
      "############# Predicted Personality #############\n",
      "\n",
      "2\n",
      "Downloading 1I56_WqAXIwanmH688ndIs5hcGeyZHo1y into C:\\Users\\nikid\\btp\\docs\\2.pdf... "
     ]
    },
    {
     "name": "stderr",
     "output_type": "stream",
     "text": [
      "c:\\Users\\nikid\\btp\\btpenv\\lib\\site-packages\\sklearn\\utils\\validation.py:593: FutureWarning: np.matrix usage is deprecated in 1.0 and will raise a TypeError in 1.2. Please convert to a numpy array with np.asarray. For more information see: https://numpy.org/doc/stable/reference/generated/numpy.matrix.html\n",
      "  warnings.warn(\n",
      "c:\\Users\\nikid\\btp\\btpenv\\lib\\site-packages\\sklearn\\utils\\validation.py:593: FutureWarning: np.matrix usage is deprecated in 1.0 and will raise a TypeError in 1.2. Please convert to a numpy array with np.asarray. For more information see: https://numpy.org/doc/stable/reference/generated/numpy.matrix.html\n",
      "  warnings.warn(\n"
     ]
    },
    {
     "name": "stdout",
     "output_type": "stream",
     "text": [
      "Done.\n",
      "\n",
      "\n",
      "---------------------- C:\\Users\\nikid\\btp\\docs\\sde.docx ---------------------\n",
      "\n",
      "\n",
      "txt C:\\Users\\nikid\\btp\\docs\\sde.docx\n",
      "txt C:\\Users\\nikid\\btp\\docs\\2.docx\n",
      "[['2.docx', 0.06290054637224393]]\n",
      "\n",
      "############# Candidate Entered Data #############\n",
      "\n",
      "{'Candidate Name': 'C:\\\\Users\\\\nikid\\\\btp\\\\docs\\\\sde.docx', 'CV Location': ['C:\\\\Users\\\\nikid\\\\btp\\\\docs\\\\2.docx']} (1, '20', '7', '4', '1', '3', '9')\n",
      "0.2291414930484628\n",
      "\n",
      "############# Predicted Personality #############\n",
      "\n",
      "3\n",
      "Downloading 1-KwIiexiftIOc1dDczcv81RpRRjY0jLM into C:\\Users\\nikid\\btp\\docs\\3.pdf... "
     ]
    },
    {
     "name": "stderr",
     "output_type": "stream",
     "text": [
      "c:\\Users\\nikid\\btp\\btpenv\\lib\\site-packages\\sklearn\\utils\\validation.py:593: FutureWarning: np.matrix usage is deprecated in 1.0 and will raise a TypeError in 1.2. Please convert to a numpy array with np.asarray. For more information see: https://numpy.org/doc/stable/reference/generated/numpy.matrix.html\n",
      "  warnings.warn(\n",
      "c:\\Users\\nikid\\btp\\btpenv\\lib\\site-packages\\sklearn\\utils\\validation.py:593: FutureWarning: np.matrix usage is deprecated in 1.0 and will raise a TypeError in 1.2. Please convert to a numpy array with np.asarray. For more information see: https://numpy.org/doc/stable/reference/generated/numpy.matrix.html\n",
      "  warnings.warn(\n"
     ]
    },
    {
     "ename": "KeyboardInterrupt",
     "evalue": "",
     "output_type": "error",
     "traceback": [
      "\u001b[1;31m---------------------------------------------------------------------------\u001b[0m",
      "\u001b[1;31mKeyboardInterrupt\u001b[0m                         Traceback (most recent call last)",
      "Input \u001b[1;32mIn [46]\u001b[0m, in \u001b[0;36m<cell line: 10>\u001b[1;34m()\u001b[0m\n\u001b[0;32m      9\u001b[0m \u001b[39mnext\u001b[39m(csvreader)\n\u001b[0;32m     10\u001b[0m \u001b[39mfor\u001b[39;00m row \u001b[39min\u001b[39;00m csvreader:\n\u001b[0;32m     11\u001b[0m     \n\u001b[0;32m     12\u001b[0m     \u001b[39m# print(row)\u001b[39;00m\n\u001b[0;32m     13\u001b[0m     \u001b[39m# i=0\u001b[39;00m\n\u001b[1;32m---> 14\u001b[0m     resume_select(row)\n",
      "\u001b[1;32mc:\\Users\\nikid\\btp\\Human-MultiAgent-CandidateShortlisting\\test.ipynb Cell 3'\u001b[0m in \u001b[0;36mresume_select\u001b[1;34m(row)\u001b[0m\n\u001b[0;32m     <a href='vscode-notebook-cell:/c%3A/Users/nikid/btp/Human-MultiAgent-CandidateShortlisting/test.ipynb#ch0000001?line=21'>22</a>\u001b[0m file_id\u001b[39m=\u001b[39murl\u001b[39m.\u001b[39mpartition(\u001b[39m\"\u001b[39m\u001b[39m?id=\u001b[39m\u001b[39m\"\u001b[39m)[\u001b[39m2\u001b[39m]\n\u001b[0;32m     <a href='vscode-notebook-cell:/c%3A/Users/nikid/btp/Human-MultiAgent-CandidateShortlisting/test.ipynb#ch0000001?line=23'>24</a>\u001b[0m \u001b[39m# print(file_id)\u001b[39;00m\n\u001b[1;32m---> <a href='vscode-notebook-cell:/c%3A/Users/nikid/btp/Human-MultiAgent-CandidateShortlisting/test.ipynb#ch0000001?line=24'>25</a>\u001b[0m gdd\u001b[39m.\u001b[39;49mdownload_file_from_google_drive(file_id\u001b[39m=\u001b[39;49mfile_id,dest_path\u001b[39m=\u001b[39;49mrrm\u001b[39m.\u001b[39;49mcnst\u001b[39m.\u001b[39;49mUPLOAD_FOLDER\u001b[39m+\u001b[39;49m\u001b[39m\"\u001b[39;49m\u001b[39m\\\\\u001b[39;49;00m\u001b[39m\"\u001b[39;49m\u001b[39m+\u001b[39;49m\u001b[39mstr\u001b[39;49m(i)\u001b[39m+\u001b[39;49m\u001b[39m\"\u001b[39;49m\u001b[39m.pdf\u001b[39;49m\u001b[39m\"\u001b[39;49m)\n\u001b[0;32m     <a href='vscode-notebook-cell:/c%3A/Users/nikid/btp/Human-MultiAgent-CandidateShortlisting/test.ipynb#ch0000001?line=25'>26</a>\u001b[0m doc\u001b[39m=\u001b[39maw\u001b[39m.\u001b[39mDocument(rrm\u001b[39m.\u001b[39mcnst\u001b[39m.\u001b[39mUPLOAD_FOLDER\u001b[39m+\u001b[39m\u001b[39m\"\u001b[39m\u001b[39m\\\\\u001b[39;00m\u001b[39m\"\u001b[39m\u001b[39m+\u001b[39m\u001b[39mstr\u001b[39m(i)\u001b[39m+\u001b[39m\u001b[39m\"\u001b[39m\u001b[39m.pdf\u001b[39m\u001b[39m\"\u001b[39m)\n\u001b[0;32m     <a href='vscode-notebook-cell:/c%3A/Users/nikid/btp/Human-MultiAgent-CandidateShortlisting/test.ipynb#ch0000001?line=26'>27</a>\u001b[0m output\u001b[39m=\u001b[39mrrm\u001b[39m.\u001b[39mcnst\u001b[39m.\u001b[39mUPLOAD_FOLDER\u001b[39m+\u001b[39m\u001b[39m'\u001b[39m\u001b[39m\\\\\u001b[39;00m\u001b[39m'\u001b[39m\u001b[39m+\u001b[39m\u001b[39mstr\u001b[39m(i)\u001b[39m+\u001b[39m\u001b[39m\"\u001b[39m\u001b[39m.docx\u001b[39m\u001b[39m\"\u001b[39m\n",
      "File \u001b[1;32mc:\\Users\\nikid\\btp\\btpenv\\lib\\site-packages\\google_drive_downloader\\google_drive_downloader.py:67\u001b[0m, in \u001b[0;36mGoogleDriveDownloader.download_file_from_google_drive\u001b[1;34m(file_id, dest_path, overwrite, unzip, showsize)\u001b[0m\n\u001b[0;32m     <a href='file:///c%3A/Users/nikid/btp/btpenv/lib/site-packages/google_drive_downloader/google_drive_downloader.py?line=63'>64</a>\u001b[0m     \u001b[39mprint\u001b[39m()  \u001b[39m# Skip to the next line\u001b[39;00m\n\u001b[0;32m     <a href='file:///c%3A/Users/nikid/btp/btpenv/lib/site-packages/google_drive_downloader/google_drive_downloader.py?line=65'>66</a>\u001b[0m current_download_size \u001b[39m=\u001b[39m [\u001b[39m0\u001b[39m]\n\u001b[1;32m---> <a href='file:///c%3A/Users/nikid/btp/btpenv/lib/site-packages/google_drive_downloader/google_drive_downloader.py?line=66'>67</a>\u001b[0m GoogleDriveDownloader\u001b[39m.\u001b[39;49m_save_response_content(response, dest_path, showsize, current_download_size)\n\u001b[0;32m     <a href='file:///c%3A/Users/nikid/btp/btpenv/lib/site-packages/google_drive_downloader/google_drive_downloader.py?line=67'>68</a>\u001b[0m \u001b[39mprint\u001b[39m(\u001b[39m'\u001b[39m\u001b[39mDone.\u001b[39m\u001b[39m'\u001b[39m)\n\u001b[0;32m     <a href='file:///c%3A/Users/nikid/btp/btpenv/lib/site-packages/google_drive_downloader/google_drive_downloader.py?line=69'>70</a>\u001b[0m \u001b[39mif\u001b[39;00m unzip:\n",
      "File \u001b[1;32mc:\\Users\\nikid\\btp\\btpenv\\lib\\site-packages\\google_drive_downloader\\google_drive_downloader.py:90\u001b[0m, in \u001b[0;36mGoogleDriveDownloader._save_response_content\u001b[1;34m(response, destination, showsize, current_size)\u001b[0m\n\u001b[0;32m     <a href='file:///c%3A/Users/nikid/btp/btpenv/lib/site-packages/google_drive_downloader/google_drive_downloader.py?line=86'>87</a>\u001b[0m \u001b[39m@staticmethod\u001b[39m\n\u001b[0;32m     <a href='file:///c%3A/Users/nikid/btp/btpenv/lib/site-packages/google_drive_downloader/google_drive_downloader.py?line=87'>88</a>\u001b[0m \u001b[39mdef\u001b[39;00m \u001b[39m_save_response_content\u001b[39m(response, destination, showsize, current_size):\n\u001b[0;32m     <a href='file:///c%3A/Users/nikid/btp/btpenv/lib/site-packages/google_drive_downloader/google_drive_downloader.py?line=88'>89</a>\u001b[0m     \u001b[39mwith\u001b[39;00m \u001b[39mopen\u001b[39m(destination, \u001b[39m'\u001b[39m\u001b[39mwb\u001b[39m\u001b[39m'\u001b[39m) \u001b[39mas\u001b[39;00m f:\n\u001b[1;32m---> <a href='file:///c%3A/Users/nikid/btp/btpenv/lib/site-packages/google_drive_downloader/google_drive_downloader.py?line=89'>90</a>\u001b[0m         \u001b[39mfor\u001b[39;00m chunk \u001b[39min\u001b[39;00m response\u001b[39m.\u001b[39miter_content(GoogleDriveDownloader\u001b[39m.\u001b[39mCHUNK_SIZE):\n\u001b[0;32m     <a href='file:///c%3A/Users/nikid/btp/btpenv/lib/site-packages/google_drive_downloader/google_drive_downloader.py?line=90'>91</a>\u001b[0m             \u001b[39mif\u001b[39;00m chunk:  \u001b[39m# filter out keep-alive new chunks\u001b[39;00m\n\u001b[0;32m     <a href='file:///c%3A/Users/nikid/btp/btpenv/lib/site-packages/google_drive_downloader/google_drive_downloader.py?line=91'>92</a>\u001b[0m                 f\u001b[39m.\u001b[39mwrite(chunk)\n",
      "File \u001b[1;32mc:\\Users\\nikid\\btp\\btpenv\\lib\\site-packages\\requests\\models.py:760\u001b[0m, in \u001b[0;36mResponse.iter_content.<locals>.generate\u001b[1;34m()\u001b[0m\n\u001b[0;32m    <a href='file:///c%3A/Users/nikid/btp/btpenv/lib/site-packages/requests/models.py?line=757'>758</a>\u001b[0m \u001b[39mif\u001b[39;00m \u001b[39mhasattr\u001b[39m(\u001b[39mself\u001b[39m\u001b[39m.\u001b[39mraw, \u001b[39m'\u001b[39m\u001b[39mstream\u001b[39m\u001b[39m'\u001b[39m):\n\u001b[0;32m    <a href='file:///c%3A/Users/nikid/btp/btpenv/lib/site-packages/requests/models.py?line=758'>759</a>\u001b[0m     \u001b[39mtry\u001b[39;00m:\n\u001b[1;32m--> <a href='file:///c%3A/Users/nikid/btp/btpenv/lib/site-packages/requests/models.py?line=759'>760</a>\u001b[0m         \u001b[39mfor\u001b[39;00m chunk \u001b[39min\u001b[39;00m \u001b[39mself\u001b[39m\u001b[39m.\u001b[39mraw\u001b[39m.\u001b[39mstream(chunk_size, decode_content\u001b[39m=\u001b[39m\u001b[39mTrue\u001b[39;00m):\n\u001b[0;32m    <a href='file:///c%3A/Users/nikid/btp/btpenv/lib/site-packages/requests/models.py?line=760'>761</a>\u001b[0m             \u001b[39myield\u001b[39;00m chunk\n\u001b[0;32m    <a href='file:///c%3A/Users/nikid/btp/btpenv/lib/site-packages/requests/models.py?line=761'>762</a>\u001b[0m     \u001b[39mexcept\u001b[39;00m ProtocolError \u001b[39mas\u001b[39;00m e:\n",
      "File \u001b[1;32mc:\\Users\\nikid\\btp\\btpenv\\lib\\site-packages\\urllib3\\response.py:576\u001b[0m, in \u001b[0;36mHTTPResponse.stream\u001b[1;34m(self, amt, decode_content)\u001b[0m\n\u001b[0;32m    <a href='file:///c%3A/Users/nikid/btp/btpenv/lib/site-packages/urllib3/response.py?line=573'>574</a>\u001b[0m \u001b[39melse\u001b[39;00m:\n\u001b[0;32m    <a href='file:///c%3A/Users/nikid/btp/btpenv/lib/site-packages/urllib3/response.py?line=574'>575</a>\u001b[0m     \u001b[39mwhile\u001b[39;00m \u001b[39mnot\u001b[39;00m is_fp_closed(\u001b[39mself\u001b[39m\u001b[39m.\u001b[39m_fp):\n\u001b[1;32m--> <a href='file:///c%3A/Users/nikid/btp/btpenv/lib/site-packages/urllib3/response.py?line=575'>576</a>\u001b[0m         data \u001b[39m=\u001b[39m \u001b[39mself\u001b[39;49m\u001b[39m.\u001b[39;49mread(amt\u001b[39m=\u001b[39;49mamt, decode_content\u001b[39m=\u001b[39;49mdecode_content)\n\u001b[0;32m    <a href='file:///c%3A/Users/nikid/btp/btpenv/lib/site-packages/urllib3/response.py?line=577'>578</a>\u001b[0m         \u001b[39mif\u001b[39;00m data:\n\u001b[0;32m    <a href='file:///c%3A/Users/nikid/btp/btpenv/lib/site-packages/urllib3/response.py?line=578'>579</a>\u001b[0m             \u001b[39myield\u001b[39;00m data\n",
      "File \u001b[1;32mc:\\Users\\nikid\\btp\\btpenv\\lib\\site-packages\\urllib3\\response.py:519\u001b[0m, in \u001b[0;36mHTTPResponse.read\u001b[1;34m(self, amt, decode_content, cache_content)\u001b[0m\n\u001b[0;32m    <a href='file:///c%3A/Users/nikid/btp/btpenv/lib/site-packages/urllib3/response.py?line=516'>517</a>\u001b[0m \u001b[39melse\u001b[39;00m:\n\u001b[0;32m    <a href='file:///c%3A/Users/nikid/btp/btpenv/lib/site-packages/urllib3/response.py?line=517'>518</a>\u001b[0m     cache_content \u001b[39m=\u001b[39m \u001b[39mFalse\u001b[39;00m\n\u001b[1;32m--> <a href='file:///c%3A/Users/nikid/btp/btpenv/lib/site-packages/urllib3/response.py?line=518'>519</a>\u001b[0m     data \u001b[39m=\u001b[39m \u001b[39mself\u001b[39;49m\u001b[39m.\u001b[39;49m_fp\u001b[39m.\u001b[39;49mread(amt) \u001b[39mif\u001b[39;00m \u001b[39mnot\u001b[39;00m fp_closed \u001b[39melse\u001b[39;00m \u001b[39mb\u001b[39m\u001b[39m\"\u001b[39m\u001b[39m\"\u001b[39m\n\u001b[0;32m    <a href='file:///c%3A/Users/nikid/btp/btpenv/lib/site-packages/urllib3/response.py?line=519'>520</a>\u001b[0m     \u001b[39mif\u001b[39;00m (\n\u001b[0;32m    <a href='file:///c%3A/Users/nikid/btp/btpenv/lib/site-packages/urllib3/response.py?line=520'>521</a>\u001b[0m         amt \u001b[39m!=\u001b[39m \u001b[39m0\u001b[39m \u001b[39mand\u001b[39;00m \u001b[39mnot\u001b[39;00m data\n\u001b[0;32m    <a href='file:///c%3A/Users/nikid/btp/btpenv/lib/site-packages/urllib3/response.py?line=521'>522</a>\u001b[0m     ):  \u001b[39m# Platform-specific: Buggy versions of Python.\u001b[39;00m\n\u001b[1;32m   (...)\u001b[0m\n\u001b[0;32m    <a href='file:///c%3A/Users/nikid/btp/btpenv/lib/site-packages/urllib3/response.py?line=527'>528</a>\u001b[0m         \u001b[39m# not properly close the connection in all cases. There is\u001b[39;00m\n\u001b[0;32m    <a href='file:///c%3A/Users/nikid/btp/btpenv/lib/site-packages/urllib3/response.py?line=528'>529</a>\u001b[0m         \u001b[39m# no harm in redundantly calling close.\u001b[39;00m\n\u001b[0;32m    <a href='file:///c%3A/Users/nikid/btp/btpenv/lib/site-packages/urllib3/response.py?line=529'>530</a>\u001b[0m         \u001b[39mself\u001b[39m\u001b[39m.\u001b[39m_fp\u001b[39m.\u001b[39mclose()\n",
      "File \u001b[1;32m~\\AppData\\Local\\Programs\\Python\\Python310\\lib\\http\\client.py:465\u001b[0m, in \u001b[0;36mHTTPResponse.read\u001b[1;34m(self, amt)\u001b[0m\n\u001b[0;32m    <a href='file:///c%3A/Users/nikid/AppData/Local/Programs/Python/Python310/lib/http/client.py?line=461'>462</a>\u001b[0m \u001b[39mif\u001b[39;00m \u001b[39mself\u001b[39m\u001b[39m.\u001b[39mlength \u001b[39mis\u001b[39;00m \u001b[39mnot\u001b[39;00m \u001b[39mNone\u001b[39;00m \u001b[39mand\u001b[39;00m amt \u001b[39m>\u001b[39m \u001b[39mself\u001b[39m\u001b[39m.\u001b[39mlength:\n\u001b[0;32m    <a href='file:///c%3A/Users/nikid/AppData/Local/Programs/Python/Python310/lib/http/client.py?line=462'>463</a>\u001b[0m     \u001b[39m# clip the read to the \"end of response\"\u001b[39;00m\n\u001b[0;32m    <a href='file:///c%3A/Users/nikid/AppData/Local/Programs/Python/Python310/lib/http/client.py?line=463'>464</a>\u001b[0m     amt \u001b[39m=\u001b[39m \u001b[39mself\u001b[39m\u001b[39m.\u001b[39mlength\n\u001b[1;32m--> <a href='file:///c%3A/Users/nikid/AppData/Local/Programs/Python/Python310/lib/http/client.py?line=464'>465</a>\u001b[0m s \u001b[39m=\u001b[39m \u001b[39mself\u001b[39;49m\u001b[39m.\u001b[39;49mfp\u001b[39m.\u001b[39;49mread(amt)\n\u001b[0;32m    <a href='file:///c%3A/Users/nikid/AppData/Local/Programs/Python/Python310/lib/http/client.py?line=465'>466</a>\u001b[0m \u001b[39mif\u001b[39;00m \u001b[39mnot\u001b[39;00m s \u001b[39mand\u001b[39;00m amt:\n\u001b[0;32m    <a href='file:///c%3A/Users/nikid/AppData/Local/Programs/Python/Python310/lib/http/client.py?line=466'>467</a>\u001b[0m     \u001b[39m# Ideally, we would raise IncompleteRead if the content-length\u001b[39;00m\n\u001b[0;32m    <a href='file:///c%3A/Users/nikid/AppData/Local/Programs/Python/Python310/lib/http/client.py?line=467'>468</a>\u001b[0m     \u001b[39m# wasn't satisfied, but it might break compatibility.\u001b[39;00m\n\u001b[0;32m    <a href='file:///c%3A/Users/nikid/AppData/Local/Programs/Python/Python310/lib/http/client.py?line=468'>469</a>\u001b[0m     \u001b[39mself\u001b[39m\u001b[39m.\u001b[39m_close_conn()\n",
      "File \u001b[1;32m~\\AppData\\Local\\Programs\\Python\\Python310\\lib\\socket.py:705\u001b[0m, in \u001b[0;36mSocketIO.readinto\u001b[1;34m(self, b)\u001b[0m\n\u001b[0;32m    <a href='file:///c%3A/Users/nikid/AppData/Local/Programs/Python/Python310/lib/socket.py?line=702'>703</a>\u001b[0m \u001b[39mwhile\u001b[39;00m \u001b[39mTrue\u001b[39;00m:\n\u001b[0;32m    <a href='file:///c%3A/Users/nikid/AppData/Local/Programs/Python/Python310/lib/socket.py?line=703'>704</a>\u001b[0m     \u001b[39mtry\u001b[39;00m:\n\u001b[1;32m--> <a href='file:///c%3A/Users/nikid/AppData/Local/Programs/Python/Python310/lib/socket.py?line=704'>705</a>\u001b[0m         \u001b[39mreturn\u001b[39;00m \u001b[39mself\u001b[39;49m\u001b[39m.\u001b[39;49m_sock\u001b[39m.\u001b[39;49mrecv_into(b)\n\u001b[0;32m    <a href='file:///c%3A/Users/nikid/AppData/Local/Programs/Python/Python310/lib/socket.py?line=705'>706</a>\u001b[0m     \u001b[39mexcept\u001b[39;00m timeout:\n\u001b[0;32m    <a href='file:///c%3A/Users/nikid/AppData/Local/Programs/Python/Python310/lib/socket.py?line=706'>707</a>\u001b[0m         \u001b[39mself\u001b[39m\u001b[39m.\u001b[39m_timeout_occurred \u001b[39m=\u001b[39m \u001b[39mTrue\u001b[39;00m\n",
      "File \u001b[1;32m~\\AppData\\Local\\Programs\\Python\\Python310\\lib\\ssl.py:1273\u001b[0m, in \u001b[0;36mSSLSocket.recv_into\u001b[1;34m(self, buffer, nbytes, flags)\u001b[0m\n\u001b[0;32m   <a href='file:///c%3A/Users/nikid/AppData/Local/Programs/Python/Python310/lib/ssl.py?line=1268'>1269</a>\u001b[0m     \u001b[39mif\u001b[39;00m flags \u001b[39m!=\u001b[39m \u001b[39m0\u001b[39m:\n\u001b[0;32m   <a href='file:///c%3A/Users/nikid/AppData/Local/Programs/Python/Python310/lib/ssl.py?line=1269'>1270</a>\u001b[0m         \u001b[39mraise\u001b[39;00m \u001b[39mValueError\u001b[39;00m(\n\u001b[0;32m   <a href='file:///c%3A/Users/nikid/AppData/Local/Programs/Python/Python310/lib/ssl.py?line=1270'>1271</a>\u001b[0m           \u001b[39m\"\u001b[39m\u001b[39mnon-zero flags not allowed in calls to recv_into() on \u001b[39m\u001b[39m%s\u001b[39;00m\u001b[39m\"\u001b[39m \u001b[39m%\u001b[39m\n\u001b[0;32m   <a href='file:///c%3A/Users/nikid/AppData/Local/Programs/Python/Python310/lib/ssl.py?line=1271'>1272</a>\u001b[0m           \u001b[39mself\u001b[39m\u001b[39m.\u001b[39m\u001b[39m__class__\u001b[39m)\n\u001b[1;32m-> <a href='file:///c%3A/Users/nikid/AppData/Local/Programs/Python/Python310/lib/ssl.py?line=1272'>1273</a>\u001b[0m     \u001b[39mreturn\u001b[39;00m \u001b[39mself\u001b[39;49m\u001b[39m.\u001b[39;49mread(nbytes, buffer)\n\u001b[0;32m   <a href='file:///c%3A/Users/nikid/AppData/Local/Programs/Python/Python310/lib/ssl.py?line=1273'>1274</a>\u001b[0m \u001b[39melse\u001b[39;00m:\n\u001b[0;32m   <a href='file:///c%3A/Users/nikid/AppData/Local/Programs/Python/Python310/lib/ssl.py?line=1274'>1275</a>\u001b[0m     \u001b[39mreturn\u001b[39;00m \u001b[39msuper\u001b[39m()\u001b[39m.\u001b[39mrecv_into(buffer, nbytes, flags)\n",
      "File \u001b[1;32m~\\AppData\\Local\\Programs\\Python\\Python310\\lib\\ssl.py:1129\u001b[0m, in \u001b[0;36mSSLSocket.read\u001b[1;34m(self, len, buffer)\u001b[0m\n\u001b[0;32m   <a href='file:///c%3A/Users/nikid/AppData/Local/Programs/Python/Python310/lib/ssl.py?line=1126'>1127</a>\u001b[0m \u001b[39mtry\u001b[39;00m:\n\u001b[0;32m   <a href='file:///c%3A/Users/nikid/AppData/Local/Programs/Python/Python310/lib/ssl.py?line=1127'>1128</a>\u001b[0m     \u001b[39mif\u001b[39;00m buffer \u001b[39mis\u001b[39;00m \u001b[39mnot\u001b[39;00m \u001b[39mNone\u001b[39;00m:\n\u001b[1;32m-> <a href='file:///c%3A/Users/nikid/AppData/Local/Programs/Python/Python310/lib/ssl.py?line=1128'>1129</a>\u001b[0m         \u001b[39mreturn\u001b[39;00m \u001b[39mself\u001b[39;49m\u001b[39m.\u001b[39;49m_sslobj\u001b[39m.\u001b[39;49mread(\u001b[39mlen\u001b[39;49m, buffer)\n\u001b[0;32m   <a href='file:///c%3A/Users/nikid/AppData/Local/Programs/Python/Python310/lib/ssl.py?line=1129'>1130</a>\u001b[0m     \u001b[39melse\u001b[39;00m:\n\u001b[0;32m   <a href='file:///c%3A/Users/nikid/AppData/Local/Programs/Python/Python310/lib/ssl.py?line=1130'>1131</a>\u001b[0m         \u001b[39mreturn\u001b[39;00m \u001b[39mself\u001b[39m\u001b[39m.\u001b[39m_sslobj\u001b[39m.\u001b[39mread(\u001b[39mlen\u001b[39m)\n",
      "\u001b[1;31mKeyboardInterrupt\u001b[0m: "
     ]
    }
   ],
   "source": [
    "import csv\n",
    "\n",
    "\n",
    "\n",
    "\n",
    "file=open('data.csv')\n",
    "csvreader=csv.reader(file)\n",
    "\n",
    "next(csvreader)\n",
    "for row in csvreader:\n",
    "    \n",
    "    # print(row)\n",
    "    # i=0\n",
    "    resume_select(row)\n",
    "    "
   ]
  },
  {
   "cell_type": "markdown",
   "metadata": {},
   "source": []
  }
 ],
 "metadata": {
  "interpreter": {
   "hash": "69a53b28c403207258a68e4558c9607110b6ec225d103cf88acc2b5be99cf7e2"
  },
  "kernelspec": {
   "display_name": "Python 3.10.2 ('btpenv': venv)",
   "language": "python",
   "name": "python3"
  },
  "language_info": {
   "codemirror_mode": {
    "name": "ipython",
    "version": 3
   },
   "file_extension": ".py",
   "mimetype": "text/x-python",
   "name": "python",
   "nbconvert_exporter": "python",
   "pygments_lexer": "ipython3",
   "version": "3.10.2"
  },
  "orig_nbformat": 4
 },
 "nbformat": 4,
 "nbformat_minor": 2
}
