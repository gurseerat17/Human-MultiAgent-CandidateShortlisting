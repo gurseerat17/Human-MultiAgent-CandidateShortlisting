{
 "cells": [
  {
   "cell_type": "code",
   "execution_count": 2,
   "metadata": {},
   "outputs": [],
   "source": [
    "import resume_rating_main as rrm\n",
    "from PersonalityPrediction import main_kmeans \n",
    "\n"
   ]
  },
  {
   "cell_type": "code",
   "execution_count": 4,
   "metadata": {},
   "outputs": [],
   "source": [
    "import gdown\n",
    "from google_drive_downloader import GoogleDriveDownloader as gdd\n",
    "import aspose.words as aw\n",
    "\n",
    "import os\n",
    "global i\n",
    "i=0\n",
    "# global kmeans_fit \n",
    "# kmeans_fit = main_kmeans.kmeans_fit()\n",
    "\n",
    "req_document=rrm.cnst.UPLOAD_FOLDER+\"\\\\\"+\"sde.docx\"\n",
    "def resume_select(row,samplepercent,model):\n",
    "    \n",
    "    global i\n",
    "    global x,E_accept_test,result_personalityconf_test,result_jobfit_test,classifier_decision_test,max_personalityconf,max_personality\n",
    "    print(i)\n",
    "    abs_paths=\" \"\n",
    "    # name=row[3]\n",
    "    # print(name)\n",
    "    age=row[3]\n",
    "    gender= 1 if row[2]=='Male' else 0\n",
    "    openness=row[4]\n",
    "    neuroticism=row[5]\n",
    "    conscientiousness=row[6]\n",
    "    agreeableness=row[7]\n",
    "    extraversion=row[8]\n",
    "    \n",
    "    url=row[9]\n",
    "    file_id=url.partition(\"?id=\")[2]\n",
    "    \n",
    "    # print(file_id)\n",
    "    gdd.download_file_from_google_drive(file_id=file_id,dest_path=rrm.cnst.UPLOAD_FOLDER+\"\\\\\"+str(i)+\".pdf\")\n",
    "    if(os.path.isfile(rrm.cnst.UPLOAD_FOLDER+\"\\\\\"+str(i)+\".pdf\")):\n",
    "        try:\n",
    "\n",
    "            doc=aw.Document(rrm.cnst.UPLOAD_FOLDER+\"\\\\\"+str(i)+\".pdf\")\n",
    "            output=rrm.cnst.UPLOAD_FOLDER+'\\\\'+str(i)+\".docx\"\n",
    "\n",
    "            doc.save(output)\n",
    "            \n",
    "            # gdown.download(url, output, quiet=False, fuzzy=True)\n",
    "\n",
    "            result_jobfit = rrm.resume_matcher.process_files(req_document,[output])\n",
    "            # print(result_jobfit)\n",
    "            result_trait,result_personalityconf= rrm.main.prediction_result(req_document,[output],(gender,age,openness,neuroticism,conscientiousness,agreeableness,extraversion),samplepercent,model)\n",
    "            if(result_personalityconf>max_personalityconf):\n",
    "                max_personalityconf=result_personalityconf\n",
    "                max_personality=[openness,neuroticism,conscientiousness,agreeableness,extraversion]\n",
    "            E_accept, E_solve = rrm.human_model(result_jobfit[0][1], result_personalityconf)\n",
    "            x.append(i)\n",
    "            E_accept_test.append(E_accept)\n",
    "            result_personalityconf_test.append(result_personalityconf)\n",
    "            # print(result_jobfit,\"Fff\")\n",
    "            result_jobfit_test.append(result_jobfit[0][1])\n",
    "            w1=0.75\n",
    "            w2=0.25\n",
    "            classifier_decision = result_jobfit[0][1]*w1 + result_personalityconf*w2\n",
    "            classifier_decision_test.append(classifier_decision)\n",
    "\n",
    "        except:\n",
    "            print(\"error \",i)\n",
    "        i=i+1\n",
    "            \n",
    "        \n",
    "\n"
   ]
  },
  {
   "cell_type": "code",
   "execution_count": 5,
   "metadata": {},
   "outputs": [
    {
     "name": "stdout",
     "output_type": "stream",
     "text": [
      "training dataset size= 1136\n",
      "0\n",
      "txt C:\\Users\\nikid\\btp\\docs\\sde.docx\n",
      "txt C:\\Users\\nikid\\btp\\docs\\0.docx\n"
     ]
    },
    {
     "name": "stderr",
     "output_type": "stream",
     "text": [
      "c:\\Users\\nikid\\btp\\btpenv\\lib\\site-packages\\sklearn\\utils\\validation.py:593: FutureWarning: np.matrix usage is deprecated in 1.0 and will raise a TypeError in 1.2. Please convert to a numpy array with np.asarray. For more information see: https://numpy.org/doc/stable/reference/generated/numpy.matrix.html\n",
      "  warnings.warn(\n",
      "c:\\Users\\nikid\\btp\\btpenv\\lib\\site-packages\\sklearn\\utils\\validation.py:593: FutureWarning: np.matrix usage is deprecated in 1.0 and will raise a TypeError in 1.2. Please convert to a numpy array with np.asarray. For more information see: https://numpy.org/doc/stable/reference/generated/numpy.matrix.html\n",
      "  warnings.warn(\n"
     ]
    },
    {
     "name": "stdout",
     "output_type": "stream",
     "text": [
      "0.21635912130662097\n",
      "\n",
      "\n",
      "---- 0.14175843048788284 0.3428486692630151 0.15076396664734437 -0.23700880684114248 \n",
      " 1.0 1.0 \n",
      "\n",
      "\n",
      "\n",
      "----------\n",
      "1\n",
      "txt C:\\Users\\nikid\\btp\\docs\\sde.docx\n",
      "txt C:\\Users\\nikid\\btp\\docs\\1.docx\n"
     ]
    },
    {
     "name": "stderr",
     "output_type": "stream",
     "text": [
      "c:\\Users\\nikid\\btp\\btpenv\\lib\\site-packages\\sklearn\\utils\\validation.py:593: FutureWarning: np.matrix usage is deprecated in 1.0 and will raise a TypeError in 1.2. Please convert to a numpy array with np.asarray. For more information see: https://numpy.org/doc/stable/reference/generated/numpy.matrix.html\n",
      "  warnings.warn(\n",
      "c:\\Users\\nikid\\btp\\btpenv\\lib\\site-packages\\sklearn\\utils\\validation.py:593: FutureWarning: np.matrix usage is deprecated in 1.0 and will raise a TypeError in 1.2. Please convert to a numpy array with np.asarray. For more information see: https://numpy.org/doc/stable/reference/generated/numpy.matrix.html\n",
      "  warnings.warn(\n"
     ]
    },
    {
     "name": "stdout",
     "output_type": "stream",
     "text": [
      "0.10437483119067202\n",
      "\n",
      "\n",
      "---- 0.0 -0.0 0.35436165972308625 -0.41966492117999393 \n",
      " -0.65 1.0 \n",
      "\n",
      "\n",
      "\n",
      "----------\n",
      "2\n",
      "txt C:\\Users\\nikid\\btp\\docs\\sde.docx\n",
      "txt C:\\Users\\nikid\\btp\\docs\\2.docx\n"
     ]
    },
    {
     "name": "stderr",
     "output_type": "stream",
     "text": [
      "c:\\Users\\nikid\\btp\\btpenv\\lib\\site-packages\\sklearn\\utils\\validation.py:593: FutureWarning: np.matrix usage is deprecated in 1.0 and will raise a TypeError in 1.2. Please convert to a numpy array with np.asarray. For more information see: https://numpy.org/doc/stable/reference/generated/numpy.matrix.html\n",
      "  warnings.warn(\n",
      "c:\\Users\\nikid\\btp\\btpenv\\lib\\site-packages\\sklearn\\utils\\validation.py:593: FutureWarning: np.matrix usage is deprecated in 1.0 and will raise a TypeError in 1.2. Please convert to a numpy array with np.asarray. For more information see: https://numpy.org/doc/stable/reference/generated/numpy.matrix.html\n",
      "  warnings.warn(\n"
     ]
    },
    {
     "name": "stdout",
     "output_type": "stream",
     "text": [
      "0.36627686027893747\n",
      "\n",
      "\n",
      "---- 0.023039014635055217 -0.025909995629172664 0.3432378456438822 -0.386010045189518 \n",
      " -0.65 1.0 \n",
      "\n",
      "\n",
      "\n",
      "----------\n",
      "3\n",
      "error  3\n",
      "4\n",
      "txt C:\\Users\\nikid\\btp\\docs\\sde.docx\n",
      "txt C:\\Users\\nikid\\btp\\docs\\4.docx\n"
     ]
    },
    {
     "name": "stderr",
     "output_type": "stream",
     "text": [
      "c:\\Users\\nikid\\btp\\btpenv\\lib\\site-packages\\sklearn\\utils\\validation.py:593: FutureWarning: np.matrix usage is deprecated in 1.0 and will raise a TypeError in 1.2. Please convert to a numpy array with np.asarray. For more information see: https://numpy.org/doc/stable/reference/generated/numpy.matrix.html\n",
      "  warnings.warn(\n",
      "c:\\Users\\nikid\\btp\\btpenv\\lib\\site-packages\\sklearn\\utils\\validation.py:593: FutureWarning: np.matrix usage is deprecated in 1.0 and will raise a TypeError in 1.2. Please convert to a numpy array with np.asarray. For more information see: https://numpy.org/doc/stable/reference/generated/numpy.matrix.html\n",
      "  warnings.warn(\n"
     ]
    },
    {
     "name": "stdout",
     "output_type": "stream",
     "text": [
      "0.054053089016993336\n",
      "\n",
      "\n",
      "---- 0.09000460582283244 0.3336995628514076 0.12241861886352039 -0.29502018810045566 \n",
      " 1.0 1.0 \n",
      "\n",
      "\n",
      "\n",
      "----------\n",
      "5\n",
      "txt C:\\Users\\nikid\\btp\\docs\\sde.docx\n",
      "txt C:\\Users\\nikid\\btp\\docs\\5.docx\n"
     ]
    },
    {
     "name": "stderr",
     "output_type": "stream",
     "text": [
      "c:\\Users\\nikid\\btp\\btpenv\\lib\\site-packages\\sklearn\\utils\\validation.py:593: FutureWarning: np.matrix usage is deprecated in 1.0 and will raise a TypeError in 1.2. Please convert to a numpy array with np.asarray. For more information see: https://numpy.org/doc/stable/reference/generated/numpy.matrix.html\n",
      "  warnings.warn(\n",
      "c:\\Users\\nikid\\btp\\btpenv\\lib\\site-packages\\sklearn\\utils\\validation.py:593: FutureWarning: np.matrix usage is deprecated in 1.0 and will raise a TypeError in 1.2. Please convert to a numpy array with np.asarray. For more information see: https://numpy.org/doc/stable/reference/generated/numpy.matrix.html\n",
      "  warnings.warn(\n"
     ]
    },
    {
     "name": "stdout",
     "output_type": "stream",
     "text": [
      "0.057728941191641334\n",
      "\n",
      "\n",
      "---- 0.02081021435718836 0.33967126906557543 0.03691872683445297 -0.39168986333280914 \n",
      " 1.0 1.0 \n",
      "\n",
      "\n",
      "\n",
      "----------\n",
      "6\n",
      "txt C:\\Users\\nikid\\btp\\docs\\sde.docx\n",
      "txt C:\\Users\\nikid\\btp\\docs\\6.docx\n"
     ]
    },
    {
     "name": "stderr",
     "output_type": "stream",
     "text": [
      "c:\\Users\\nikid\\btp\\btpenv\\lib\\site-packages\\sklearn\\utils\\validation.py:593: FutureWarning: np.matrix usage is deprecated in 1.0 and will raise a TypeError in 1.2. Please convert to a numpy array with np.asarray. For more information see: https://numpy.org/doc/stable/reference/generated/numpy.matrix.html\n",
      "  warnings.warn(\n",
      "c:\\Users\\nikid\\btp\\btpenv\\lib\\site-packages\\sklearn\\utils\\validation.py:593: FutureWarning: np.matrix usage is deprecated in 1.0 and will raise a TypeError in 1.2. Please convert to a numpy array with np.asarray. For more information see: https://numpy.org/doc/stable/reference/generated/numpy.matrix.html\n",
      "  warnings.warn(\n"
     ]
    },
    {
     "name": "stdout",
     "output_type": "stream",
     "text": [
      "0.21204737054362177\n",
      "\n",
      "\n",
      "---- 0.11549836521721397 0.3822921304804116 0.11652367259881437 -0.250695790607314 \n",
      " 1.0 1.0 \n",
      "\n",
      "\n",
      "\n",
      "----------\n",
      "7\n",
      "txt C:\\Users\\nikid\\btp\\docs\\sde.docx\n",
      "txt C:\\Users\\nikid\\btp\\docs\\7.docx\n"
     ]
    },
    {
     "name": "stderr",
     "output_type": "stream",
     "text": [
      "c:\\Users\\nikid\\btp\\btpenv\\lib\\site-packages\\sklearn\\utils\\validation.py:593: FutureWarning: np.matrix usage is deprecated in 1.0 and will raise a TypeError in 1.2. Please convert to a numpy array with np.asarray. For more information see: https://numpy.org/doc/stable/reference/generated/numpy.matrix.html\n",
      "  warnings.warn(\n",
      "c:\\Users\\nikid\\btp\\btpenv\\lib\\site-packages\\sklearn\\utils\\validation.py:593: FutureWarning: np.matrix usage is deprecated in 1.0 and will raise a TypeError in 1.2. Please convert to a numpy array with np.asarray. For more information see: https://numpy.org/doc/stable/reference/generated/numpy.matrix.html\n",
      "  warnings.warn(\n"
     ]
    },
    {
     "name": "stdout",
     "output_type": "stream",
     "text": [
      "0.19664299857024986\n",
      "\n",
      "\n",
      "---- 0.08526932748324503 0.34835570927484194 0.11137367108700483 -0.2957508399006904 \n",
      " 1.0 1.0 \n",
      "\n",
      "\n",
      "\n",
      "----------\n",
      "8\n",
      "txt C:\\Users\\nikid\\btp\\docs\\sde.docx\n",
      "txt C:\\Users\\nikid\\btp\\docs\\8.docx\n"
     ]
    },
    {
     "name": "stderr",
     "output_type": "stream",
     "text": [
      "c:\\Users\\nikid\\btp\\btpenv\\lib\\site-packages\\sklearn\\utils\\validation.py:593: FutureWarning: np.matrix usage is deprecated in 1.0 and will raise a TypeError in 1.2. Please convert to a numpy array with np.asarray. For more information see: https://numpy.org/doc/stable/reference/generated/numpy.matrix.html\n",
      "  warnings.warn(\n",
      "c:\\Users\\nikid\\btp\\btpenv\\lib\\site-packages\\sklearn\\utils\\validation.py:593: FutureWarning: np.matrix usage is deprecated in 1.0 and will raise a TypeError in 1.2. Please convert to a numpy array with np.asarray. For more information see: https://numpy.org/doc/stable/reference/generated/numpy.matrix.html\n",
      "  warnings.warn(\n"
     ]
    },
    {
     "name": "stdout",
     "output_type": "stream",
     "text": [
      "0.17274307164452313\n",
      "\n",
      "\n",
      "---- 0.018430573831383048 0.08535003288897293 0.159161120935304 -0.47908787702382105 \n",
      " 1.0 1.0 \n",
      "\n",
      "\n",
      "\n",
      "----------\n",
      "9\n",
      "txt C:\\Users\\nikid\\btp\\docs\\sde.docx\n",
      "txt C:\\Users\\nikid\\btp\\docs\\9.docx\n"
     ]
    },
    {
     "name": "stderr",
     "output_type": "stream",
     "text": [
      "c:\\Users\\nikid\\btp\\btpenv\\lib\\site-packages\\sklearn\\utils\\validation.py:593: FutureWarning: np.matrix usage is deprecated in 1.0 and will raise a TypeError in 1.2. Please convert to a numpy array with np.asarray. For more information see: https://numpy.org/doc/stable/reference/generated/numpy.matrix.html\n",
      "  warnings.warn(\n",
      "c:\\Users\\nikid\\btp\\btpenv\\lib\\site-packages\\sklearn\\utils\\validation.py:593: FutureWarning: np.matrix usage is deprecated in 1.0 and will raise a TypeError in 1.2. Please convert to a numpy array with np.asarray. For more information see: https://numpy.org/doc/stable/reference/generated/numpy.matrix.html\n",
      "  warnings.warn(\n"
     ]
    },
    {
     "name": "stdout",
     "output_type": "stream",
     "text": [
      "0.13005775234846417\n",
      "\n",
      "\n",
      "---- 0.1104498303342333 0.40129676299958916 0.10537931591312569 -0.24886815898948375 \n",
      " 1.0 1.0 \n",
      "\n",
      "\n",
      "\n",
      "----------\n",
      "10\n",
      "txt C:\\Users\\nikid\\btp\\docs\\sde.docx\n",
      "txt C:\\Users\\nikid\\btp\\docs\\10.docx\n"
     ]
    },
    {
     "name": "stderr",
     "output_type": "stream",
     "text": [
      "c:\\Users\\nikid\\btp\\btpenv\\lib\\site-packages\\sklearn\\utils\\validation.py:593: FutureWarning: np.matrix usage is deprecated in 1.0 and will raise a TypeError in 1.2. Please convert to a numpy array with np.asarray. For more information see: https://numpy.org/doc/stable/reference/generated/numpy.matrix.html\n",
      "  warnings.warn(\n",
      "c:\\Users\\nikid\\btp\\btpenv\\lib\\site-packages\\sklearn\\utils\\validation.py:593: FutureWarning: np.matrix usage is deprecated in 1.0 and will raise a TypeError in 1.2. Please convert to a numpy array with np.asarray. For more information see: https://numpy.org/doc/stable/reference/generated/numpy.matrix.html\n",
      "  warnings.warn(\n"
     ]
    },
    {
     "name": "stdout",
     "output_type": "stream",
     "text": [
      "0.0710042920380476\n",
      "\n",
      "\n",
      "---- 0.10957540833135263 0.3421422590982092 0.13299958094209477 -0.26993378855842326 \n",
      " 1.0 1.0 \n",
      "\n",
      "\n",
      "\n",
      "----------\n",
      "11\n",
      "txt C:\\Users\\nikid\\btp\\docs\\sde.docx\n",
      "txt C:\\Users\\nikid\\btp\\docs\\11.docx\n"
     ]
    },
    {
     "name": "stderr",
     "output_type": "stream",
     "text": [
      "c:\\Users\\nikid\\btp\\btpenv\\lib\\site-packages\\sklearn\\utils\\validation.py:593: FutureWarning: np.matrix usage is deprecated in 1.0 and will raise a TypeError in 1.2. Please convert to a numpy array with np.asarray. For more information see: https://numpy.org/doc/stable/reference/generated/numpy.matrix.html\n",
      "  warnings.warn(\n",
      "c:\\Users\\nikid\\btp\\btpenv\\lib\\site-packages\\sklearn\\utils\\validation.py:593: FutureWarning: np.matrix usage is deprecated in 1.0 and will raise a TypeError in 1.2. Please convert to a numpy array with np.asarray. For more information see: https://numpy.org/doc/stable/reference/generated/numpy.matrix.html\n",
      "  warnings.warn(\n"
     ]
    },
    {
     "name": "stdout",
     "output_type": "stream",
     "text": [
      "0.14523794692215777\n",
      "\n",
      "\n",
      "---- 0.13302507349794862 0.29242633627425024 0.17964300196847133 -0.2566886323685644 \n",
      " 1.0 1.0 \n",
      "\n",
      "\n",
      "\n",
      "----------\n",
      "12\n",
      "error  12\n",
      "13\n",
      "txt C:\\Users\\nikid\\btp\\docs\\sde.docx\n",
      "txt C:\\Users\\nikid\\btp\\docs\\13.docx\n"
     ]
    },
    {
     "name": "stderr",
     "output_type": "stream",
     "text": [
      "c:\\Users\\nikid\\btp\\btpenv\\lib\\site-packages\\sklearn\\utils\\validation.py:593: FutureWarning: np.matrix usage is deprecated in 1.0 and will raise a TypeError in 1.2. Please convert to a numpy array with np.asarray. For more information see: https://numpy.org/doc/stable/reference/generated/numpy.matrix.html\n",
      "  warnings.warn(\n",
      "c:\\Users\\nikid\\btp\\btpenv\\lib\\site-packages\\sklearn\\utils\\validation.py:593: FutureWarning: np.matrix usage is deprecated in 1.0 and will raise a TypeError in 1.2. Please convert to a numpy array with np.asarray. For more information see: https://numpy.org/doc/stable/reference/generated/numpy.matrix.html\n",
      "  warnings.warn(\n"
     ]
    },
    {
     "name": "stdout",
     "output_type": "stream",
     "text": [
      "0.3239485009082536\n",
      "\n",
      "\n",
      "---- 0.03551309603073205 0.07411264982443959 0.28843540487752156 -0.3912602520237494 \n",
      " 1.0 1.0 \n",
      "\n",
      "\n",
      "\n",
      "----------\n",
      "14\n",
      "txt C:\\Users\\nikid\\btp\\docs\\sde.docx\n",
      "txt C:\\Users\\nikid\\btp\\docs\\14.docx\n"
     ]
    },
    {
     "name": "stderr",
     "output_type": "stream",
     "text": [
      "c:\\Users\\nikid\\btp\\btpenv\\lib\\site-packages\\sklearn\\utils\\validation.py:593: FutureWarning: np.matrix usage is deprecated in 1.0 and will raise a TypeError in 1.2. Please convert to a numpy array with np.asarray. For more information see: https://numpy.org/doc/stable/reference/generated/numpy.matrix.html\n",
      "  warnings.warn(\n",
      "c:\\Users\\nikid\\btp\\btpenv\\lib\\site-packages\\sklearn\\utils\\validation.py:593: FutureWarning: np.matrix usage is deprecated in 1.0 and will raise a TypeError in 1.2. Please convert to a numpy array with np.asarray. For more information see: https://numpy.org/doc/stable/reference/generated/numpy.matrix.html\n",
      "  warnings.warn(\n"
     ]
    },
    {
     "name": "stdout",
     "output_type": "stream",
     "text": [
      "0.06316334615101772\n",
      "\n",
      "\n",
      "---- 0.017424800952247892 0.09220094490292374 0.14152327111166382 -0.486753138971557 \n",
      " 1.0 1.0 \n",
      "\n",
      "\n",
      "\n",
      "----------\n",
      "15\n",
      "txt C:\\Users\\nikid\\btp\\docs\\sde.docx\n",
      "txt C:\\Users\\nikid\\btp\\docs\\15.docx\n"
     ]
    },
    {
     "name": "stderr",
     "output_type": "stream",
     "text": [
      "c:\\Users\\nikid\\btp\\btpenv\\lib\\site-packages\\sklearn\\utils\\validation.py:593: FutureWarning: np.matrix usage is deprecated in 1.0 and will raise a TypeError in 1.2. Please convert to a numpy array with np.asarray. For more information see: https://numpy.org/doc/stable/reference/generated/numpy.matrix.html\n",
      "  warnings.warn(\n",
      "c:\\Users\\nikid\\btp\\btpenv\\lib\\site-packages\\sklearn\\utils\\validation.py:593: FutureWarning: np.matrix usage is deprecated in 1.0 and will raise a TypeError in 1.2. Please convert to a numpy array with np.asarray. For more information see: https://numpy.org/doc/stable/reference/generated/numpy.matrix.html\n",
      "  warnings.warn(\n"
     ]
    },
    {
     "name": "stdout",
     "output_type": "stream",
     "text": [
      "0.12354727902075031\n",
      "\n",
      "\n",
      "---- 0.02101866139450585 0.08860708446066579 0.1707124071655562 -0.4677802005365269 \n",
      " 1.0 1.0 \n",
      "\n",
      "\n",
      "\n",
      "----------\n",
      "16\n",
      "txt C:\\Users\\nikid\\btp\\docs\\sde.docx\n",
      "txt C:\\Users\\nikid\\btp\\docs\\16.docx\n"
     ]
    },
    {
     "name": "stderr",
     "output_type": "stream",
     "text": [
      "c:\\Users\\nikid\\btp\\btpenv\\lib\\site-packages\\sklearn\\utils\\validation.py:593: FutureWarning: np.matrix usage is deprecated in 1.0 and will raise a TypeError in 1.2. Please convert to a numpy array with np.asarray. For more information see: https://numpy.org/doc/stable/reference/generated/numpy.matrix.html\n",
      "  warnings.warn(\n",
      "c:\\Users\\nikid\\btp\\btpenv\\lib\\site-packages\\sklearn\\utils\\validation.py:593: FutureWarning: np.matrix usage is deprecated in 1.0 and will raise a TypeError in 1.2. Please convert to a numpy array with np.asarray. For more information see: https://numpy.org/doc/stable/reference/generated/numpy.matrix.html\n",
      "  warnings.warn(\n"
     ]
    },
    {
     "name": "stdout",
     "output_type": "stream",
     "text": [
      "0.292393653409723\n",
      "\n",
      "\n",
      "---- 0.032053872338359435 0.0775718735168122 0.2603397810713636 -0.40952240749775215 \n",
      " 1.0 1.0 \n",
      "\n",
      "\n",
      "\n",
      "----------\n",
      "17\n",
      "txt C:\\Users\\nikid\\btp\\docs\\sde.docx\n",
      "txt C:\\Users\\nikid\\btp\\docs\\17.docx\n"
     ]
    },
    {
     "name": "stderr",
     "output_type": "stream",
     "text": [
      "c:\\Users\\nikid\\btp\\btpenv\\lib\\site-packages\\sklearn\\utils\\validation.py:593: FutureWarning: np.matrix usage is deprecated in 1.0 and will raise a TypeError in 1.2. Please convert to a numpy array with np.asarray. For more information see: https://numpy.org/doc/stable/reference/generated/numpy.matrix.html\n",
      "  warnings.warn(\n",
      "c:\\Users\\nikid\\btp\\btpenv\\lib\\site-packages\\sklearn\\utils\\validation.py:593: FutureWarning: np.matrix usage is deprecated in 1.0 and will raise a TypeError in 1.2. Please convert to a numpy array with np.asarray. For more information see: https://numpy.org/doc/stable/reference/generated/numpy.matrix.html\n",
      "  warnings.warn(\n"
     ]
    },
    {
     "name": "stdout",
     "output_type": "stream",
     "text": [
      "0.32026390790069065\n",
      "\n",
      "\n",
      "---- 0.035109169774105206 0.07451657608106643 0.2851547381265854 -0.39339268541185796 \n",
      " 1.0 1.0 \n",
      "\n",
      "\n",
      "\n",
      "----------\n",
      "18\n",
      "txt C:\\Users\\nikid\\btp\\docs\\sde.docx\n",
      "txt C:\\Users\\nikid\\btp\\docs\\18.docx\n"
     ]
    },
    {
     "name": "stderr",
     "output_type": "stream",
     "text": [
      "c:\\Users\\nikid\\btp\\btpenv\\lib\\site-packages\\sklearn\\utils\\validation.py:593: FutureWarning: np.matrix usage is deprecated in 1.0 and will raise a TypeError in 1.2. Please convert to a numpy array with np.asarray. For more information see: https://numpy.org/doc/stable/reference/generated/numpy.matrix.html\n",
      "  warnings.warn(\n",
      "c:\\Users\\nikid\\btp\\btpenv\\lib\\site-packages\\sklearn\\utils\\validation.py:593: FutureWarning: np.matrix usage is deprecated in 1.0 and will raise a TypeError in 1.2. Please convert to a numpy array with np.asarray. For more information see: https://numpy.org/doc/stable/reference/generated/numpy.matrix.html\n",
      "  warnings.warn(\n"
     ]
    },
    {
     "name": "stdout",
     "output_type": "stream",
     "text": [
      "0.11755664556288316\n",
      "\n",
      "\n",
      "---- 0.026095062010059438 0.08353068384511221 0.21194265263896153 -0.4409805409788135 \n",
      " 1.0 1.0 \n",
      "\n",
      "\n",
      "\n",
      "----------\n",
      "19\n",
      "txt C:\\Users\\nikid\\btp\\docs\\sde.docx\n",
      "txt C:\\Users\\nikid\\btp\\docs\\19.docx\n"
     ]
    },
    {
     "name": "stderr",
     "output_type": "stream",
     "text": [
      "c:\\Users\\nikid\\btp\\btpenv\\lib\\site-packages\\sklearn\\utils\\validation.py:593: FutureWarning: np.matrix usage is deprecated in 1.0 and will raise a TypeError in 1.2. Please convert to a numpy array with np.asarray. For more information see: https://numpy.org/doc/stable/reference/generated/numpy.matrix.html\n",
      "  warnings.warn(\n",
      "c:\\Users\\nikid\\btp\\btpenv\\lib\\site-packages\\sklearn\\utils\\validation.py:593: FutureWarning: np.matrix usage is deprecated in 1.0 and will raise a TypeError in 1.2. Please convert to a numpy array with np.asarray. For more information see: https://numpy.org/doc/stable/reference/generated/numpy.matrix.html\n",
      "  warnings.warn(\n"
     ]
    },
    {
     "name": "stdout",
     "output_type": "stream",
     "text": [
      "0.18071283025692977\n",
      "\n",
      "\n",
      "---- 0.019810778802514955 0.08981496705265668 0.16090205145441483 -0.47415693174876883 \n",
      " 1.0 1.0 \n",
      "\n",
      "\n",
      "\n",
      "----------\n",
      "20\n",
      "txt C:\\Users\\nikid\\btp\\docs\\sde.docx\n",
      "txt C:\\Users\\nikid\\btp\\docs\\20.docx\n"
     ]
    },
    {
     "name": "stderr",
     "output_type": "stream",
     "text": [
      "c:\\Users\\nikid\\btp\\btpenv\\lib\\site-packages\\sklearn\\utils\\validation.py:593: FutureWarning: np.matrix usage is deprecated in 1.0 and will raise a TypeError in 1.2. Please convert to a numpy array with np.asarray. For more information see: https://numpy.org/doc/stable/reference/generated/numpy.matrix.html\n",
      "  warnings.warn(\n",
      "c:\\Users\\nikid\\btp\\btpenv\\lib\\site-packages\\sklearn\\utils\\validation.py:593: FutureWarning: np.matrix usage is deprecated in 1.0 and will raise a TypeError in 1.2. Please convert to a numpy array with np.asarray. For more information see: https://numpy.org/doc/stable/reference/generated/numpy.matrix.html\n",
      "  warnings.warn(\n"
     ]
    },
    {
     "name": "stdout",
     "output_type": "stream",
     "text": [
      "0.07430081496296796\n",
      "\n",
      "\n",
      "---- 0.03237598710910217 0.07724975874606947 0.2629559794516965 -0.4078218785505357 \n",
      " 1.0 1.0 \n",
      "\n",
      "\n",
      "\n",
      "----------\n",
      "21\n",
      "txt C:\\Users\\nikid\\btp\\docs\\sde.docx\n",
      "txt C:\\Users\\nikid\\btp\\docs\\21.docx\n"
     ]
    },
    {
     "name": "stderr",
     "output_type": "stream",
     "text": [
      "c:\\Users\\nikid\\btp\\btpenv\\lib\\site-packages\\sklearn\\utils\\validation.py:593: FutureWarning: np.matrix usage is deprecated in 1.0 and will raise a TypeError in 1.2. Please convert to a numpy array with np.asarray. For more information see: https://numpy.org/doc/stable/reference/generated/numpy.matrix.html\n",
      "  warnings.warn(\n",
      "c:\\Users\\nikid\\btp\\btpenv\\lib\\site-packages\\sklearn\\utils\\validation.py:593: FutureWarning: np.matrix usage is deprecated in 1.0 and will raise a TypeError in 1.2. Please convert to a numpy array with np.asarray. For more information see: https://numpy.org/doc/stable/reference/generated/numpy.matrix.html\n",
      "  warnings.warn(\n"
     ]
    },
    {
     "name": "stdout",
     "output_type": "stream",
     "text": [
      "0.21083839557354922\n",
      "\n",
      "\n",
      "---- 0.023113316369658053 0.08651242948551359 0.18772507920389117 -0.4567219637116092 \n",
      " 1.0 1.0 \n",
      "\n",
      "\n",
      "\n",
      "----------\n",
      "22\n",
      "txt C:\\Users\\nikid\\btp\\docs\\sde.docx\n",
      "txt C:\\Users\\nikid\\btp\\docs\\22.docx\n"
     ]
    },
    {
     "name": "stderr",
     "output_type": "stream",
     "text": [
      "c:\\Users\\nikid\\btp\\btpenv\\lib\\site-packages\\sklearn\\utils\\validation.py:593: FutureWarning: np.matrix usage is deprecated in 1.0 and will raise a TypeError in 1.2. Please convert to a numpy array with np.asarray. For more information see: https://numpy.org/doc/stable/reference/generated/numpy.matrix.html\n",
      "  warnings.warn(\n",
      "c:\\Users\\nikid\\btp\\btpenv\\lib\\site-packages\\sklearn\\utils\\validation.py:593: FutureWarning: np.matrix usage is deprecated in 1.0 and will raise a TypeError in 1.2. Please convert to a numpy array with np.asarray. For more information see: https://numpy.org/doc/stable/reference/generated/numpy.matrix.html\n",
      "  warnings.warn(\n"
     ]
    },
    {
     "name": "stdout",
     "output_type": "stream",
     "text": [
      "0.18146176586826282\n",
      "\n",
      "\n",
      "---- 0.029482995022502075 0.08014275083266956 0.2394592574795018 -0.4230947478324623 \n",
      " 1.0 1.0 \n",
      "\n",
      "\n",
      "\n",
      "----------\n",
      "23\n",
      "txt C:\\Users\\nikid\\btp\\docs\\sde.docx\n",
      "txt C:\\Users\\nikid\\btp\\docs\\23.docx\n"
     ]
    },
    {
     "name": "stderr",
     "output_type": "stream",
     "text": [
      "c:\\Users\\nikid\\btp\\btpenv\\lib\\site-packages\\sklearn\\utils\\validation.py:593: FutureWarning: np.matrix usage is deprecated in 1.0 and will raise a TypeError in 1.2. Please convert to a numpy array with np.asarray. For more information see: https://numpy.org/doc/stable/reference/generated/numpy.matrix.html\n",
      "  warnings.warn(\n",
      "c:\\Users\\nikid\\btp\\btpenv\\lib\\site-packages\\sklearn\\utils\\validation.py:593: FutureWarning: np.matrix usage is deprecated in 1.0 and will raise a TypeError in 1.2. Please convert to a numpy array with np.asarray. For more information see: https://numpy.org/doc/stable/reference/generated/numpy.matrix.html\n",
      "  warnings.warn(\n"
     ]
    },
    {
     "name": "stdout",
     "output_type": "stream",
     "text": [
      "0.27540305800081377\n",
      "\n",
      "\n",
      "---- 0.030191265644134303 0.07943448021103733 0.24521179235667948 -0.41935560016229684 \n",
      " 1.0 1.0 \n",
      "\n",
      "\n",
      "\n",
      "----------\n",
      "24\n",
      "txt C:\\Users\\nikid\\btp\\docs\\sde.docx\n",
      "txt C:\\Users\\nikid\\btp\\docs\\24.docx\n"
     ]
    },
    {
     "name": "stderr",
     "output_type": "stream",
     "text": [
      "c:\\Users\\nikid\\btp\\btpenv\\lib\\site-packages\\sklearn\\utils\\validation.py:593: FutureWarning: np.matrix usage is deprecated in 1.0 and will raise a TypeError in 1.2. Please convert to a numpy array with np.asarray. For more information see: https://numpy.org/doc/stable/reference/generated/numpy.matrix.html\n",
      "  warnings.warn(\n",
      "c:\\Users\\nikid\\btp\\btpenv\\lib\\site-packages\\sklearn\\utils\\validation.py:593: FutureWarning: np.matrix usage is deprecated in 1.0 and will raise a TypeError in 1.2. Please convert to a numpy array with np.asarray. For more information see: https://numpy.org/doc/stable/reference/generated/numpy.matrix.html\n",
      "  warnings.warn(\n"
     ]
    },
    {
     "name": "stdout",
     "output_type": "stream",
     "text": [
      "0.23473433323828707\n",
      "\n",
      "\n",
      "---- 0.025732926359063626 0.08389281949610801 0.20900140687922344 -0.44289235072264327 \n",
      " 1.0 1.0 \n",
      "\n",
      "\n",
      "\n",
      "----------\n",
      "25\n",
      "txt C:\\Users\\nikid\\btp\\docs\\sde.docx\n",
      "txt C:\\Users\\nikid\\btp\\docs\\25.docx\n"
     ]
    },
    {
     "name": "stderr",
     "output_type": "stream",
     "text": [
      "c:\\Users\\nikid\\btp\\btpenv\\lib\\site-packages\\sklearn\\utils\\validation.py:593: FutureWarning: np.matrix usage is deprecated in 1.0 and will raise a TypeError in 1.2. Please convert to a numpy array with np.asarray. For more information see: https://numpy.org/doc/stable/reference/generated/numpy.matrix.html\n",
      "  warnings.warn(\n",
      "c:\\Users\\nikid\\btp\\btpenv\\lib\\site-packages\\sklearn\\utils\\validation.py:593: FutureWarning: np.matrix usage is deprecated in 1.0 and will raise a TypeError in 1.2. Please convert to a numpy array with np.asarray. For more information see: https://numpy.org/doc/stable/reference/generated/numpy.matrix.html\n",
      "  warnings.warn(\n"
     ]
    },
    {
     "name": "stdout",
     "output_type": "stream",
     "text": [
      "0.07224074798328926\n",
      "\n",
      "\n",
      "---- 0.021343859517011992 0.08828188633815964 0.17335364835864447 -0.46606339376101963 \n",
      " 1.0 1.0 \n",
      "\n",
      "\n",
      "\n",
      "----------\n",
      "26\n",
      "txt C:\\Users\\nikid\\btp\\docs\\sde.docx\n",
      "txt C:\\Users\\nikid\\btp\\docs\\26.docx\n"
     ]
    },
    {
     "name": "stderr",
     "output_type": "stream",
     "text": [
      "c:\\Users\\nikid\\btp\\btpenv\\lib\\site-packages\\sklearn\\utils\\validation.py:593: FutureWarning: np.matrix usage is deprecated in 1.0 and will raise a TypeError in 1.2. Please convert to a numpy array with np.asarray. For more information see: https://numpy.org/doc/stable/reference/generated/numpy.matrix.html\n",
      "  warnings.warn(\n",
      "c:\\Users\\nikid\\btp\\btpenv\\lib\\site-packages\\sklearn\\utils\\validation.py:593: FutureWarning: np.matrix usage is deprecated in 1.0 and will raise a TypeError in 1.2. Please convert to a numpy array with np.asarray. For more information see: https://numpy.org/doc/stable/reference/generated/numpy.matrix.html\n",
      "  warnings.warn(\n"
     ]
    },
    {
     "name": "stdout",
     "output_type": "stream",
     "text": [
      "0.1412480082217758\n",
      "\n",
      "\n",
      "---- 0.015484418251869587 0.09414132760330206 0.12576358996990622 -0.49699693171369946 \n",
      " 1.0 1.0 \n",
      "\n",
      "\n",
      "\n",
      "----------\n",
      "27\n",
      "txt C:\\Users\\nikid\\btp\\docs\\sde.docx\n",
      "txt C:\\Users\\nikid\\btp\\docs\\27.docx\n"
     ]
    },
    {
     "name": "stderr",
     "output_type": "stream",
     "text": [
      "c:\\Users\\nikid\\btp\\btpenv\\lib\\site-packages\\sklearn\\utils\\validation.py:593: FutureWarning: np.matrix usage is deprecated in 1.0 and will raise a TypeError in 1.2. Please convert to a numpy array with np.asarray. For more information see: https://numpy.org/doc/stable/reference/generated/numpy.matrix.html\n",
      "  warnings.warn(\n",
      "c:\\Users\\nikid\\btp\\btpenv\\lib\\site-packages\\sklearn\\utils\\validation.py:593: FutureWarning: np.matrix usage is deprecated in 1.0 and will raise a TypeError in 1.2. Please convert to a numpy array with np.asarray. For more information see: https://numpy.org/doc/stable/reference/generated/numpy.matrix.html\n",
      "  warnings.warn(\n"
     ]
    },
    {
     "name": "stdout",
     "output_type": "stream",
     "text": [
      "0.1532970958516953\n",
      "\n",
      "\n",
      "---- 0.02099934618078174 0.0886263996743899 0.17055553006630278 -0.4678821706510417 \n",
      " 1.0 1.0 \n",
      "\n",
      "\n",
      "\n",
      "----------\n",
      "28\n",
      "txt C:\\Users\\nikid\\btp\\docs\\sde.docx\n",
      "txt C:\\Users\\nikid\\btp\\docs\\28.docx\n"
     ]
    },
    {
     "name": "stderr",
     "output_type": "stream",
     "text": [
      "c:\\Users\\nikid\\btp\\btpenv\\lib\\site-packages\\sklearn\\utils\\validation.py:593: FutureWarning: np.matrix usage is deprecated in 1.0 and will raise a TypeError in 1.2. Please convert to a numpy array with np.asarray. For more information see: https://numpy.org/doc/stable/reference/generated/numpy.matrix.html\n",
      "  warnings.warn(\n",
      "c:\\Users\\nikid\\btp\\btpenv\\lib\\site-packages\\sklearn\\utils\\validation.py:593: FutureWarning: np.matrix usage is deprecated in 1.0 and will raise a TypeError in 1.2. Please convert to a numpy array with np.asarray. For more information see: https://numpy.org/doc/stable/reference/generated/numpy.matrix.html\n",
      "  warnings.warn(\n"
     ]
    },
    {
     "name": "stdout",
     "output_type": "stream",
     "text": [
      "0.4255203475014525\n",
      "\n",
      "\n",
      "---- 0.046647985471398555 -0.04093554424945251 0.378872362030054 -0.3324762298746034 \n",
      " -0.65 1.0 \n",
      "\n",
      "\n",
      "\n",
      "----------\n",
      "29\n",
      "txt C:\\Users\\nikid\\btp\\docs\\sde.docx\n",
      "txt C:\\Users\\nikid\\btp\\docs\\29.docx\n"
     ]
    },
    {
     "name": "stderr",
     "output_type": "stream",
     "text": [
      "c:\\Users\\nikid\\btp\\btpenv\\lib\\site-packages\\sklearn\\utils\\validation.py:593: FutureWarning: np.matrix usage is deprecated in 1.0 and will raise a TypeError in 1.2. Please convert to a numpy array with np.asarray. For more information see: https://numpy.org/doc/stable/reference/generated/numpy.matrix.html\n",
      "  warnings.warn(\n",
      "c:\\Users\\nikid\\btp\\btpenv\\lib\\site-packages\\sklearn\\utils\\validation.py:593: FutureWarning: np.matrix usage is deprecated in 1.0 and will raise a TypeError in 1.2. Please convert to a numpy array with np.asarray. For more information see: https://numpy.org/doc/stable/reference/generated/numpy.matrix.html\n",
      "  warnings.warn(\n"
     ]
    },
    {
     "name": "stdout",
     "output_type": "stream",
     "text": [
      "0.17961159398704962\n",
      "\n",
      "\n",
      "---- 0.022487996420211525 0.08713774943496011 0.18264626510555074 -0.46002319287553045 \n",
      " 1.0 1.0 \n",
      "\n",
      "\n",
      "\n",
      "----------\n",
      "30\n",
      "txt C:\\Users\\nikid\\btp\\docs\\sde.docx\n",
      "txt C:\\Users\\nikid\\btp\\docs\\30.docx\n"
     ]
    },
    {
     "name": "stderr",
     "output_type": "stream",
     "text": [
      "c:\\Users\\nikid\\btp\\btpenv\\lib\\site-packages\\sklearn\\utils\\validation.py:593: FutureWarning: np.matrix usage is deprecated in 1.0 and will raise a TypeError in 1.2. Please convert to a numpy array with np.asarray. For more information see: https://numpy.org/doc/stable/reference/generated/numpy.matrix.html\n",
      "  warnings.warn(\n",
      "c:\\Users\\nikid\\btp\\btpenv\\lib\\site-packages\\sklearn\\utils\\validation.py:593: FutureWarning: np.matrix usage is deprecated in 1.0 and will raise a TypeError in 1.2. Please convert to a numpy array with np.asarray. For more information see: https://numpy.org/doc/stable/reference/generated/numpy.matrix.html\n",
      "  warnings.warn(\n"
     ]
    },
    {
     "name": "stdout",
     "output_type": "stream",
     "text": [
      "0.08284295578995456\n",
      "\n",
      "\n",
      "---- 0.04664913422235332 0.34265293001098046 0.07317847140368182 -0.34938765183593984 \n",
      " 1.0 1.0 \n",
      "\n",
      "\n",
      "\n",
      "----------\n",
      "31\n",
      "txt C:\\Users\\nikid\\btp\\docs\\sde.docx\n",
      "txt C:\\Users\\nikid\\btp\\docs\\31.docx\n"
     ]
    },
    {
     "name": "stderr",
     "output_type": "stream",
     "text": [
      "c:\\Users\\nikid\\btp\\btpenv\\lib\\site-packages\\sklearn\\utils\\validation.py:593: FutureWarning: np.matrix usage is deprecated in 1.0 and will raise a TypeError in 1.2. Please convert to a numpy array with np.asarray. For more information see: https://numpy.org/doc/stable/reference/generated/numpy.matrix.html\n",
      "  warnings.warn(\n",
      "c:\\Users\\nikid\\btp\\btpenv\\lib\\site-packages\\sklearn\\utils\\validation.py:593: FutureWarning: np.matrix usage is deprecated in 1.0 and will raise a TypeError in 1.2. Please convert to a numpy array with np.asarray. For more information see: https://numpy.org/doc/stable/reference/generated/numpy.matrix.html\n",
      "  warnings.warn(\n"
     ]
    },
    {
     "name": "stdout",
     "output_type": "stream",
     "text": [
      "0.15972460804169994\n",
      "\n",
      "\n",
      "---- 0.0175099292879963 0.09211581656717534 0.14221467875370364 -0.4863037240042311 \n",
      " 1.0 1.0 \n",
      "\n",
      "\n",
      "\n",
      "----------\n",
      "32\n",
      "txt C:\\Users\\nikid\\btp\\docs\\sde.docx\n",
      "txt C:\\Users\\nikid\\btp\\docs\\32.docx\n"
     ]
    },
    {
     "name": "stderr",
     "output_type": "stream",
     "text": [
      "c:\\Users\\nikid\\btp\\btpenv\\lib\\site-packages\\sklearn\\utils\\validation.py:593: FutureWarning: np.matrix usage is deprecated in 1.0 and will raise a TypeError in 1.2. Please convert to a numpy array with np.asarray. For more information see: https://numpy.org/doc/stable/reference/generated/numpy.matrix.html\n",
      "  warnings.warn(\n",
      "c:\\Users\\nikid\\btp\\btpenv\\lib\\site-packages\\sklearn\\utils\\validation.py:593: FutureWarning: np.matrix usage is deprecated in 1.0 and will raise a TypeError in 1.2. Please convert to a numpy array with np.asarray. For more information see: https://numpy.org/doc/stable/reference/generated/numpy.matrix.html\n",
      "  warnings.warn(\n"
     ]
    },
    {
     "name": "stdout",
     "output_type": "stream",
     "text": [
      "0.08068724282051952\n",
      "\n",
      "\n",
      "---- 0.014471782278223532 0.09515396357694811 0.1175390165111634 -0.5023429044618822 \n",
      " 1.0 1.0 \n",
      "\n",
      "\n",
      "\n",
      "----------\n",
      "33\n",
      "txt C:\\Users\\nikid\\btp\\docs\\sde.docx\n",
      "txt C:\\Users\\nikid\\btp\\docs\\33.docx\n"
     ]
    },
    {
     "name": "stderr",
     "output_type": "stream",
     "text": [
      "c:\\Users\\nikid\\btp\\btpenv\\lib\\site-packages\\sklearn\\utils\\validation.py:593: FutureWarning: np.matrix usage is deprecated in 1.0 and will raise a TypeError in 1.2. Please convert to a numpy array with np.asarray. For more information see: https://numpy.org/doc/stable/reference/generated/numpy.matrix.html\n",
      "  warnings.warn(\n",
      "c:\\Users\\nikid\\btp\\btpenv\\lib\\site-packages\\sklearn\\utils\\validation.py:593: FutureWarning: np.matrix usage is deprecated in 1.0 and will raise a TypeError in 1.2. Please convert to a numpy array with np.asarray. For more information see: https://numpy.org/doc/stable/reference/generated/numpy.matrix.html\n",
      "  warnings.warn(\n"
     ]
    },
    {
     "name": "stdout",
     "output_type": "stream",
     "text": [
      "0.18388189000122546\n",
      "\n",
      "\n",
      "---- 0.023107569345389493 0.08651817650978215 0.18767840219014087 -0.45675230377054693 \n",
      " 1.0 1.0 \n",
      "\n",
      "\n",
      "\n",
      "----------\n",
      "34\n",
      "txt C:\\Users\\nikid\\btp\\docs\\sde.docx\n",
      "txt C:\\Users\\nikid\\btp\\docs\\34.docx\n"
     ]
    },
    {
     "name": "stderr",
     "output_type": "stream",
     "text": [
      "c:\\Users\\nikid\\btp\\btpenv\\lib\\site-packages\\sklearn\\utils\\validation.py:593: FutureWarning: np.matrix usage is deprecated in 1.0 and will raise a TypeError in 1.2. Please convert to a numpy array with np.asarray. For more information see: https://numpy.org/doc/stable/reference/generated/numpy.matrix.html\n",
      "  warnings.warn(\n",
      "c:\\Users\\nikid\\btp\\btpenv\\lib\\site-packages\\sklearn\\utils\\validation.py:593: FutureWarning: np.matrix usage is deprecated in 1.0 and will raise a TypeError in 1.2. Please convert to a numpy array with np.asarray. For more information see: https://numpy.org/doc/stable/reference/generated/numpy.matrix.html\n",
      "  warnings.warn(\n"
     ]
    },
    {
     "name": "stdout",
     "output_type": "stream",
     "text": [
      "0.08164367300609073\n",
      "\n",
      "\n",
      "---- 0.018870434387300194 0.09075531146787144 0.1532646260412075 -0.4791212582673536 \n",
      " 1.0 1.0 \n",
      "\n",
      "\n",
      "\n",
      "----------\n",
      "35\n",
      "txt C:\\Users\\nikid\\btp\\docs\\sde.docx\n",
      "txt C:\\Users\\nikid\\btp\\docs\\35.docx\n"
     ]
    },
    {
     "name": "stderr",
     "output_type": "stream",
     "text": [
      "c:\\Users\\nikid\\btp\\btpenv\\lib\\site-packages\\sklearn\\utils\\validation.py:593: FutureWarning: np.matrix usage is deprecated in 1.0 and will raise a TypeError in 1.2. Please convert to a numpy array with np.asarray. For more information see: https://numpy.org/doc/stable/reference/generated/numpy.matrix.html\n",
      "  warnings.warn(\n",
      "c:\\Users\\nikid\\btp\\btpenv\\lib\\site-packages\\sklearn\\utils\\validation.py:593: FutureWarning: np.matrix usage is deprecated in 1.0 and will raise a TypeError in 1.2. Please convert to a numpy array with np.asarray. For more information see: https://numpy.org/doc/stable/reference/generated/numpy.matrix.html\n",
      "  warnings.warn(\n"
     ]
    },
    {
     "name": "stdout",
     "output_type": "stream",
     "text": [
      "0.12338535280734224\n",
      "\n",
      "\n",
      "---- 0.02735503646018818 0.08227070939498346 0.22217609554531137 -0.4343288030896861 \n",
      " 1.0 1.0 \n",
      "\n",
      "\n",
      "\n",
      "----------\n",
      "36\n",
      "txt C:\\Users\\nikid\\btp\\docs\\sde.docx\n",
      "txt C:\\Users\\nikid\\btp\\docs\\36.docx\n"
     ]
    },
    {
     "name": "stderr",
     "output_type": "stream",
     "text": [
      "c:\\Users\\nikid\\btp\\btpenv\\lib\\site-packages\\sklearn\\utils\\validation.py:593: FutureWarning: np.matrix usage is deprecated in 1.0 and will raise a TypeError in 1.2. Please convert to a numpy array with np.asarray. For more information see: https://numpy.org/doc/stable/reference/generated/numpy.matrix.html\n",
      "  warnings.warn(\n",
      "c:\\Users\\nikid\\btp\\btpenv\\lib\\site-packages\\sklearn\\utils\\validation.py:593: FutureWarning: np.matrix usage is deprecated in 1.0 and will raise a TypeError in 1.2. Please convert to a numpy array with np.asarray. For more information see: https://numpy.org/doc/stable/reference/generated/numpy.matrix.html\n",
      "  warnings.warn(\n"
     ]
    },
    {
     "name": "stdout",
     "output_type": "stream",
     "text": [
      "0.3511537190394287\n",
      "\n",
      "\n",
      "---- 0.03849548835951476 -0.04623466737217697 0.312658230679914 -0.3755154152521944 \n",
      " -0.65 1.0 \n",
      "\n",
      "\n",
      "\n",
      "----------\n",
      "37\n",
      "txt C:\\Users\\nikid\\btp\\docs\\sde.docx\n",
      "txt C:\\Users\\nikid\\btp\\docs\\37.docx\n"
     ]
    },
    {
     "name": "stderr",
     "output_type": "stream",
     "text": [
      "c:\\Users\\nikid\\btp\\btpenv\\lib\\site-packages\\sklearn\\utils\\validation.py:593: FutureWarning: np.matrix usage is deprecated in 1.0 and will raise a TypeError in 1.2. Please convert to a numpy array with np.asarray. For more information see: https://numpy.org/doc/stable/reference/generated/numpy.matrix.html\n",
      "  warnings.warn(\n",
      "c:\\Users\\nikid\\btp\\btpenv\\lib\\site-packages\\sklearn\\utils\\validation.py:593: FutureWarning: np.matrix usage is deprecated in 1.0 and will raise a TypeError in 1.2. Please convert to a numpy array with np.asarray. For more information see: https://numpy.org/doc/stable/reference/generated/numpy.matrix.html\n",
      "  warnings.warn(\n"
     ]
    },
    {
     "name": "stdout",
     "output_type": "stream",
     "text": [
      "0.10464436359789037\n",
      "\n",
      "\n",
      "---- 0.0187296325179414 0.09089611333723024 0.15212104103355648 -0.4798645885223268 \n",
      " 1.0 1.0 \n",
      "\n",
      "\n",
      "\n",
      "----------\n",
      "38\n",
      "txt C:\\Users\\nikid\\btp\\docs\\sde.docx\n",
      "txt C:\\Users\\nikid\\btp\\docs\\38.docx\n"
     ]
    },
    {
     "name": "stderr",
     "output_type": "stream",
     "text": [
      "c:\\Users\\nikid\\btp\\btpenv\\lib\\site-packages\\sklearn\\utils\\validation.py:593: FutureWarning: np.matrix usage is deprecated in 1.0 and will raise a TypeError in 1.2. Please convert to a numpy array with np.asarray. For more information see: https://numpy.org/doc/stable/reference/generated/numpy.matrix.html\n",
      "  warnings.warn(\n",
      "c:\\Users\\nikid\\btp\\btpenv\\lib\\site-packages\\sklearn\\utils\\validation.py:593: FutureWarning: np.matrix usage is deprecated in 1.0 and will raise a TypeError in 1.2. Please convert to a numpy array with np.asarray. For more information see: https://numpy.org/doc/stable/reference/generated/numpy.matrix.html\n",
      "  warnings.warn(\n"
     ]
    },
    {
     "name": "stdout",
     "output_type": "stream",
     "text": [
      "0.33558865250383435\n",
      "\n",
      "\n",
      "---- 0.03678915633126485 -0.04734378319053941 0.2987994961725695 -0.3845235926819683 \n",
      " -0.65 1.0 \n",
      "\n",
      "\n",
      "\n",
      "----------\n",
      "39\n",
      "txt C:\\Users\\nikid\\btp\\docs\\sde.docx\n",
      "txt C:\\Users\\nikid\\btp\\docs\\39.docx\n"
     ]
    },
    {
     "name": "stderr",
     "output_type": "stream",
     "text": [
      "c:\\Users\\nikid\\btp\\btpenv\\lib\\site-packages\\sklearn\\utils\\validation.py:593: FutureWarning: np.matrix usage is deprecated in 1.0 and will raise a TypeError in 1.2. Please convert to a numpy array with np.asarray. For more information see: https://numpy.org/doc/stable/reference/generated/numpy.matrix.html\n",
      "  warnings.warn(\n",
      "c:\\Users\\nikid\\btp\\btpenv\\lib\\site-packages\\sklearn\\utils\\validation.py:593: FutureWarning: np.matrix usage is deprecated in 1.0 and will raise a TypeError in 1.2. Please convert to a numpy array with np.asarray. For more information see: https://numpy.org/doc/stable/reference/generated/numpy.matrix.html\n",
      "  warnings.warn(\n"
     ]
    },
    {
     "name": "stdout",
     "output_type": "stream",
     "text": [
      "0.12982039882123075\n",
      "\n",
      "\n",
      "---- 0.021095600550382565 0.08853014530478907 0.17133730274089634 -0.4673740184125558 \n",
      " 1.0 1.0 \n",
      "\n",
      "\n",
      "\n",
      "----------\n",
      "40\n",
      "txt C:\\Users\\nikid\\btp\\docs\\sde.docx\n",
      "txt C:\\Users\\nikid\\btp\\docs\\40.docx\n"
     ]
    },
    {
     "name": "stderr",
     "output_type": "stream",
     "text": [
      "c:\\Users\\nikid\\btp\\btpenv\\lib\\site-packages\\sklearn\\utils\\validation.py:593: FutureWarning: np.matrix usage is deprecated in 1.0 and will raise a TypeError in 1.2. Please convert to a numpy array with np.asarray. For more information see: https://numpy.org/doc/stable/reference/generated/numpy.matrix.html\n",
      "  warnings.warn(\n",
      "c:\\Users\\nikid\\btp\\btpenv\\lib\\site-packages\\sklearn\\utils\\validation.py:593: FutureWarning: np.matrix usage is deprecated in 1.0 and will raise a TypeError in 1.2. Please convert to a numpy array with np.asarray. For more information see: https://numpy.org/doc/stable/reference/generated/numpy.matrix.html\n",
      "  warnings.warn(\n"
     ]
    },
    {
     "name": "stdout",
     "output_type": "stream",
     "text": [
      "0.3388003051054815\n",
      "\n",
      "\n",
      "---- 0.037141236143148126 -0.047114931312815286 0.30165906896233335 -0.38266487036862173 \n",
      " -0.65 1.0 \n",
      "\n",
      "\n",
      "\n",
      "----------\n",
      "41\n",
      "txt C:\\Users\\nikid\\btp\\docs\\sde.docx\n",
      "txt C:\\Users\\nikid\\btp\\docs\\41.docx\n"
     ]
    },
    {
     "name": "stderr",
     "output_type": "stream",
     "text": [
      "c:\\Users\\nikid\\btp\\btpenv\\lib\\site-packages\\sklearn\\utils\\validation.py:593: FutureWarning: np.matrix usage is deprecated in 1.0 and will raise a TypeError in 1.2. Please convert to a numpy array with np.asarray. For more information see: https://numpy.org/doc/stable/reference/generated/numpy.matrix.html\n",
      "  warnings.warn(\n",
      "c:\\Users\\nikid\\btp\\btpenv\\lib\\site-packages\\sklearn\\utils\\validation.py:593: FutureWarning: np.matrix usage is deprecated in 1.0 and will raise a TypeError in 1.2. Please convert to a numpy array with np.asarray. For more information see: https://numpy.org/doc/stable/reference/generated/numpy.matrix.html\n",
      "  warnings.warn(\n"
     ]
    },
    {
     "name": "stdout",
     "output_type": "stream",
     "text": [
      "0.31938879550262744\n",
      "\n",
      "\n",
      "---- 0.035013234924760425 0.07461251093041121 0.28437556057786706 -0.3938991508185249 \n",
      " 1.0 1.0 \n",
      "\n",
      "\n",
      "\n",
      "----------\n",
      "42\n",
      "txt C:\\Users\\nikid\\btp\\docs\\sde.docx\n",
      "txt C:\\Users\\nikid\\btp\\docs\\42.docx\n"
     ]
    }
   ],
   "source": [
    "import csv\n",
    "import numpy as np\n",
    "import matplotlib.pyplot as plt\n",
    "\n",
    "\n",
    "\n",
    "for samplepercent in np.arange(0.2,1,0.2):\n",
    "    file=open('data.csv')\n",
    "    csvreader=csv.reader(file)\n",
    "    \n",
    "    next(csvreader)\n",
    "    i=0\n",
    "    \n",
    "    x=[]\n",
    "    E_accept_test=[]\n",
    "    result_jobfit_test=[]\n",
    "    result_personalityconf_test=[]\n",
    "    classifier_decision_test=[]\n",
    "    max_personalityconf=0\n",
    "    max_personality=[]\n",
    "    results=[]\n",
    "    model = rrm.main.train_model()\n",
    "    model.train(samplepercent)\n",
    "    for row in csvreader:\n",
    "        \n",
    "        # print(row)\n",
    "        \n",
    "        resume_select(row,samplepercent,model)\n",
    "        \n",
    "        # if(i==3):\n",
    "        #     break\n",
    "    file.close()\n",
    "    print(classifier_decision_test,result_personalityconf_test,result_jobfit_test)\n",
    "    results.append([classifier_decision_test,result_personalityconf_test,result_jobfit_test,E_accept_test])\n",
    "    plt.scatter(x, classifier_decision_test, c =\"pink\",\n",
    "                linewidths = 2,\n",
    "                marker =\"s\",\n",
    "                edgecolor =\"green\",\n",
    "                s = 50)\n",
    "    plt.scatter(x, E_accept_test, c =\"red\",\n",
    "                linewidths = 2,\n",
    "                marker =\"s\",\n",
    "                edgecolor =\"yellow\",\n",
    "                s = 50)\n",
    "    # plt.scatter(x, result_personalityconf_test, c =\"black\",\n",
    "    #             linewidths = 2,\n",
    "    #             marker =\"s\",\n",
    "    #             edgecolor =\"pink\",\n",
    "    #             s = 50) \n",
    "    plt.tick_params(axis='x',colors='white')\n",
    "    plt.tick_params(axis='y',colors='white')\n",
    "    # plt.spines['bottom'].set_color('white')\n",
    "    # plt.spines['left'].set_color('white')\n",
    "\n",
    "    plt.savefig(\"plot\"+str(i)+\".png\")\n",
    "    plt.show()\n",
    "\n",
    "    # fig=plt.figure()\n",
    "    i=i+1\n",
    "# print(max_personality,max_personalityconf)\n"
   ]
  },
  {
   "cell_type": "code",
   "execution_count": 1,
   "metadata": {},
   "outputs": [
    {
     "ename": "NameError",
     "evalue": "name 'classifier_decision_test' is not defined",
     "output_type": "error",
     "traceback": [
      "\u001b[1;31m---------------------------------------------------------------------------\u001b[0m",
      "\u001b[1;31mNameError\u001b[0m                                 Traceback (most recent call last)",
      "\u001b[1;32mc:\\Users\\nikid\\btp\\Human-MultiAgent-CandidateShortlisting\\test.ipynb Cell 4'\u001b[0m in \u001b[0;36m<cell line: 1>\u001b[1;34m()\u001b[0m\n\u001b[1;32m----> <a href='vscode-notebook-cell:/c%3A/Users/nikid/btp/Human-MultiAgent-CandidateShortlisting/test.ipynb#ch0000003?line=0'>1</a>\u001b[0m \u001b[39mprint\u001b[39m(classifier_decision_test,result_personalityconf_test,result_jobfit_test)\n\u001b[0;32m      <a href='vscode-notebook-cell:/c%3A/Users/nikid/btp/Human-MultiAgent-CandidateShortlisting/test.ipynb#ch0000003?line=2'>3</a>\u001b[0m plt\u001b[39m.\u001b[39mscatter(x, classifier_decision_test, c \u001b[39m=\u001b[39m\u001b[39m\"\u001b[39m\u001b[39mpink\u001b[39m\u001b[39m\"\u001b[39m,\n\u001b[0;32m      <a href='vscode-notebook-cell:/c%3A/Users/nikid/btp/Human-MultiAgent-CandidateShortlisting/test.ipynb#ch0000003?line=3'>4</a>\u001b[0m             linewidths \u001b[39m=\u001b[39m \u001b[39m2\u001b[39m,\n\u001b[0;32m      <a href='vscode-notebook-cell:/c%3A/Users/nikid/btp/Human-MultiAgent-CandidateShortlisting/test.ipynb#ch0000003?line=4'>5</a>\u001b[0m             marker \u001b[39m=\u001b[39m\u001b[39m\"\u001b[39m\u001b[39ms\u001b[39m\u001b[39m\"\u001b[39m,\n\u001b[0;32m      <a href='vscode-notebook-cell:/c%3A/Users/nikid/btp/Human-MultiAgent-CandidateShortlisting/test.ipynb#ch0000003?line=5'>6</a>\u001b[0m             edgecolor \u001b[39m=\u001b[39m\u001b[39m\"\u001b[39m\u001b[39mgreen\u001b[39m\u001b[39m\"\u001b[39m,\n\u001b[0;32m      <a href='vscode-notebook-cell:/c%3A/Users/nikid/btp/Human-MultiAgent-CandidateShortlisting/test.ipynb#ch0000003?line=6'>7</a>\u001b[0m             s \u001b[39m=\u001b[39m \u001b[39m50\u001b[39m)\n\u001b[0;32m      <a href='vscode-notebook-cell:/c%3A/Users/nikid/btp/Human-MultiAgent-CandidateShortlisting/test.ipynb#ch0000003?line=7'>8</a>\u001b[0m plt\u001b[39m.\u001b[39mscatter(x, E_accept_test, c \u001b[39m=\u001b[39m\u001b[39m\"\u001b[39m\u001b[39mred\u001b[39m\u001b[39m\"\u001b[39m,\n\u001b[0;32m      <a href='vscode-notebook-cell:/c%3A/Users/nikid/btp/Human-MultiAgent-CandidateShortlisting/test.ipynb#ch0000003?line=8'>9</a>\u001b[0m             linewidths \u001b[39m=\u001b[39m \u001b[39m2\u001b[39m,\n\u001b[0;32m     <a href='vscode-notebook-cell:/c%3A/Users/nikid/btp/Human-MultiAgent-CandidateShortlisting/test.ipynb#ch0000003?line=9'>10</a>\u001b[0m             marker \u001b[39m=\u001b[39m\u001b[39m\"\u001b[39m\u001b[39ms\u001b[39m\u001b[39m\"\u001b[39m,\n\u001b[0;32m     <a href='vscode-notebook-cell:/c%3A/Users/nikid/btp/Human-MultiAgent-CandidateShortlisting/test.ipynb#ch0000003?line=10'>11</a>\u001b[0m             edgecolor \u001b[39m=\u001b[39m\u001b[39m\"\u001b[39m\u001b[39myellow\u001b[39m\u001b[39m\"\u001b[39m,\n\u001b[0;32m     <a href='vscode-notebook-cell:/c%3A/Users/nikid/btp/Human-MultiAgent-CandidateShortlisting/test.ipynb#ch0000003?line=11'>12</a>\u001b[0m             s \u001b[39m=\u001b[39m \u001b[39m50\u001b[39m)\n",
      "\u001b[1;31mNameError\u001b[0m: name 'classifier_decision_test' is not defined"
     ]
    }
   ],
   "source": [
    "\n",
    "\n",
    "\n"
   ]
  },
  {
   "cell_type": "code",
   "execution_count": null,
   "metadata": {},
   "outputs": [],
   "source": []
  },
  {
   "cell_type": "markdown",
   "metadata": {},
   "source": []
  }
 ],
 "metadata": {
  "interpreter": {
   "hash": "69a53b28c403207258a68e4558c9607110b6ec225d103cf88acc2b5be99cf7e2"
  },
  "kernelspec": {
   "display_name": "Python 3.10.2 ('btpenv': venv)",
   "language": "python",
   "name": "python3"
  },
  "language_info": {
   "codemirror_mode": {
    "name": "ipython",
    "version": 3
   },
   "file_extension": ".py",
   "mimetype": "text/x-python",
   "name": "python",
   "nbconvert_exporter": "python",
   "pygments_lexer": "ipython3",
   "version": "3.6.8"
  },
  "orig_nbformat": 4
 },
 "nbformat": 4,
 "nbformat_minor": 2
}
